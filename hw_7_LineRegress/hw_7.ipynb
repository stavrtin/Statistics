{
 "cells": [
  {
   "cell_type": "markdown",
   "metadata": {
    "id": "870AD3n5gvm5"
   },
   "source": [
    "### hw_7\n",
    "### Линейная регрессия. Двухвыборочный t-тест. A/B-тестирование"
   ]
  },
  {
   "cell_type": "markdown",
   "metadata": {},
   "source": [
    "__Задача 1__\n",
    "\n",
    "\n",
    "Дана матрица объект-признак\n",
    "```\n",
    "X = [[ 1.22401313,  2.30868478,  3.03636353,  2.69287214],\n",
    "     [-0.18757272,  1.30337355,  5.12093014,  3.46363202],\n",
    "     [-0.81094525,  1.82463398,  5.79686488,  1.86159445],\n",
    "     [ 0.75129018,  2.67392052,  3.65529809,  1.66746094],\n",
    "     [ 0.00972362,  1.97367255,  2.50594319,  1.69755173],\n",
    "     [-0.62972637,  0.77750764,  2.84124027,  4.54410559],\n",
    "     [ 2.29536229,  1.81206697,  1.95026215,  1.51874636],\n",
    "     [ 0.0920418 ,  2.26971361,  7.47708735,  2.61081203],\n",
    "     [ 2.39252799,  3.17563985,  3.61420599,  5.10773362],\n",
    "     [ 0.54983815,  2.87988651,  1.65752765,  1.59635987]]\n",
    "```\n",
    "и значения целевой переменной\n",
    "```\n",
    "y = [ 9.26193358,  9.700363  ,  8.67214805,  8.74796974,  6.18689108,\n",
    "      7.53312713,  7.57643777, 12.44965478, 14.29010746,  6.68361218]\n",
    "```\n",
    "\n",
    "Подберите два признака (из четырёх) так, чтобы уровень линейной зависимости целевой переменной от значений этих признаков был максимальным. Другими словами, модель линейной регрессии на этих признаках должна давать наилучший результат. В качестве ответа запишите значение коэффициента детерминации для модели на этих признаках.\n",
    "<hr>"
   ]
  },
  {
   "cell_type": "markdown",
   "metadata": {},
   "source": [
    "**РЕШЕНИЕ:**"
   ]
  },
  {
   "cell_type": "code",
   "execution_count": 314,
   "metadata": {
    "id": "rIiL5B3RgvnB"
   },
   "outputs": [],
   "source": [
    "import numpy as np\n",
    "import pandas as pd\n"
   ]
  },
  {
   "cell_type": "code",
   "execution_count": 315,
   "metadata": {},
   "outputs": [],
   "source": [
    "X = [[ 1.22401313,  2.30868478,  3.03636353,  2.69287214],\n",
    "     [-0.18757272,  1.30337355,  5.12093014,  3.46363202],\n",
    "     [-0.81094525,  1.82463398,  5.79686488,  1.86159445],\n",
    "     [ 0.75129018,  2.67392052,  3.65529809,  1.66746094],\n",
    "     [ 0.00972362,  1.97367255,  2.50594319,  1.69755173],\n",
    "     [-0.62972637,  0.77750764,  2.84124027,  4.54410559],\n",
    "     [ 2.29536229,  1.81206697,  1.95026215,  1.51874636],\n",
    "     [ 0.0920418 ,  2.26971361,  7.47708735,  2.61081203],\n",
    "     [ 2.39252799,  3.17563985,  3.61420599,  5.10773362],\n",
    "     [ 0.54983815,  2.87988651,  1.65752765,  1.59635987]]\n",
    "\n",
    "y = [ 9.26193358,  9.700363  ,  8.67214805,  8.74796974,  6.18689108,\n",
    "      7.53312713,  7.57643777, 12.44965478, 14.29010746,  6.68361218]\n",
    "\n",
    "df_x = pd.DataFrame(X)\n",
    "df_y = pd.DataFrame(y)"
   ]
  },
  {
   "cell_type": "markdown",
   "metadata": {},
   "source": [
    "Найдем коэффициенты b __аналитически__: $b = \\left( X^\\top X \\right)^{-1} X^\\top Y$"
   ]
  },
  {
   "cell_type": "code",
   "execution_count": 316,
   "metadata": {},
   "outputs": [],
   "source": [
    "# Для первой пары x1 и x0\n",
    "df_x01 = df_x[[0,1]]\n",
    "x1 = df_x01.copy()"
   ]
  },
  {
   "cell_type": "code",
   "execution_count": 317,
   "metadata": {},
   "outputs": [],
   "source": [
    "# Добавим Х0 = 1 для получения возможности применять матрицы\n",
    "ones = np.ones((x1.shape[0], 1))\n",
    "x1 = np.hstack((ones, x1))"
   ]
  },
  {
   "cell_type": "code",
   "execution_count": 323,
   "metadata": {},
   "outputs": [
    {
     "name": "stdout",
     "output_type": "stream",
     "text": [
      "[[6.70781579]\n",
      " [0.40786841]\n",
      " [1.03360247]]\n"
     ]
    }
   ],
   "source": [
    "xtx = x1.T.dot(x1)\n",
    "xtx_inv = np.linalg.inv(xtx)\n",
    "b = xtx_inv.dot(x1.T).dot(df_y)\n",
    "print(b)\n"
   ]
  },
  {
   "attachments": {
    "35b9eb03-87ec-4f85-99be-3515a2facf67.png": {
     "image/png": "[encoded data removed]"
    }
   },
   "cell_type": "markdown",
   "metadata": {},
   "source": [
    "Итак, наша модель регрессии приняла вид:\n",
    "$$y = 6.7078 - 0.4078 \\cdot x_1 + 1.0336 \\cdot x_2,$$\n",
    "где $x_1$ — НУЛЕВОЙ столбей матрицы Х, $x_2$ — ПЕРВЫЙ столбей матрицы Х.\n",
    "\n",
    "И проверим, чтобы средняя ошибка модели была равна $0$:![image.png](attachment:35b9eb03-87ec-4f85-99be-3515a2facf67.png)"
   ]
  },
  {
   "cell_type": "code",
   "execution_count": 324,
   "metadata": {},
   "outputs": [
    {
     "name": "stdout",
     "output_type": "stream",
     "text": [
      "Ошибка при таких параметрах равна -3.552713678800501e-16\n"
     ]
    }
   ],
   "source": [
    "e = x1.dot(b) - df_y\n",
    "print(f'Ошибка при таких параметрах равна {e.mean()[0]}')\n",
    "# e.mean()"
   ]
  },
  {
   "cell_type": "markdown",
   "metadata": {},
   "source": [
    "__Коэффициент детерминации:__ $$R^2 = 1 - \\dfrac{SS_{res}}{SS_{y}}$$"
   ]
  },
  {
   "cell_type": "code",
   "execution_count": 325,
   "metadata": {},
   "outputs": [],
   "source": [
    "def sum_of_squares(samples):\n",
    "    \"\"\"Сумма квадратов отклонений.\"\"\"\n",
    "    return ((samples - samples.mean()) ** 2).sum()"
   ]
  },
  {
   "cell_type": "code",
   "execution_count": 326,
   "metadata": {},
   "outputs": [
    {
     "name": "stdout",
     "output_type": "stream",
     "text": [
      "Коэффициент детерминации R2 равен 0.18113594742585204\n"
     ]
    }
   ],
   "source": [
    "r2 = 1 - (sum_of_squares(e))/(sum_of_squares(df_y))\n",
    "print(f'Коэффициент детерминации R2 равен {r2[0]}')"
   ]
  },
  {
   "cell_type": "code",
   "execution_count": 327,
   "metadata": {},
   "outputs": [],
   "source": [
    "# Проверим штатными средствами pandas:\n",
    "from sklearn.metrics import r2_score\n",
    "from sklearn.linear_model import LinearRegression"
   ]
  },
  {
   "cell_type": "code",
   "execution_count": 328,
   "metadata": {
    "id": "wTYRmVdBgvnN"
   },
   "outputs": [
    {
     "name": "stdout",
     "output_type": "stream",
     "text": [
      "Коэффициенты b, посчитанные вручную: \tb0 = 6.707815790497738, b1 = 0.40786841030580134, b2 = 1.0336024709417713\n",
      "Коэффициенты b, посчитанные pandas: \tb0 = 6.707815790497743, b1 = 0.4078684103057945, b2 = 1.0336024709417708\n"
     ]
    }
   ],
   "source": [
    "lr = LinearRegression(fit_intercept=False).fit(x1, df_y)\n",
    "print(f'Коэффициенты b, посчитанные вручную: \\tb0 = {b[0,0]}, b1 = {b[1,0]}, b2 = {b[2,0]}' )\n",
    "print(f'Коэффициенты b, посчитанные pandas: \\tb0 = {lr.coef_[0,0]}, b1 = {lr.coef_[0,1]}, b2 = {lr.coef_[0,2]}' )"
   ]
  },
  {
   "cell_type": "code",
   "execution_count": 330,
   "metadata": {},
   "outputs": [
    {
     "name": "stdout",
     "output_type": "stream",
     "text": [
      "Коэффициент детерминации R2, посчитанный вручную: 0.18113594742585204\n",
      "Коэффициент детерминации R2, посчитанный pandas: 0.18113594742585204\n"
     ]
    }
   ],
   "source": [
    "print(f'Коэффициент детерминации R2, посчитанный вручную: {r2[0]}')\n",
    "print(f'Коэффициент детерминации R2, посчитанный pandas: {r2_score(df_y, x1@(lr.coef_[0]))}')"
   ]
  },
  {
   "cell_type": "markdown",
   "metadata": {},
   "source": [
    "__Таким образом далее просто будем использовать штатные функции pandas для расчета параметров.__\n"
   ]
  },
  {
   "cell_type": "code",
   "execution_count": 332,
   "metadata": {},
   "outputs": [
    {
     "data": {
      "text/plain": [
       "[(0, 1), (0, 2), (0, 3), (1, 2), (1, 3), (2, 3)]"
      ]
     },
     "execution_count": 332,
     "metadata": {},
     "output_type": "execute_result"
    }
   ],
   "source": [
    "import itertools\n",
    "from itertools import combinations\n",
    "list(combinations(df_x.columns, 2))"
   ]
  },
  {
   "cell_type": "code",
   "execution_count": 333,
   "metadata": {},
   "outputs": [
    {
     "name": "stdout",
     "output_type": "stream",
     "text": [
      "Коэффициент детерминации R2, для признаков 0 и 1: 0.18113594742585204\n",
      "Коэффициент детерминации R2, для признаков 0 и 2: 0.763424623879315\n",
      "Коэффициент детерминации R2, для признаков 0 и 3: 0.4532966783144079\n",
      "Коэффициент детерминации R2, для признаков 1 и 2: 0.547948273403901\n",
      "Коэффициент детерминации R2, для признаков 1 и 3: 0.6062055761129932\n",
      "Коэффициент детерминации R2, для признаков 2 и 3: 0.6224419876505323\n"
     ]
    }
   ],
   "source": [
    "for item in list(combinations(df_x.columns, 2)):\n",
    "    x_ = (df_x[[item[0],item[1]]])\n",
    "    x_ = np.hstack((np.ones((x_.shape[0], 1)), x_))\n",
    "    lr = LinearRegression(fit_intercept=False).fit(x_, df_y)\n",
    "    print(f'Коэффициент детерминации R2, для признаков {item[0]} и {item[1]}: {r2_score(df_y, x_.dot(lr.coef_[0]))}')\n"
   ]
  },
  {
   "cell_type": "markdown",
   "metadata": {},
   "source": [
    "__Таким образом, максимальный коэффициент детерминации получается при использовании признаков 0 и 2__\n"
   ]
  },
  {
   "cell_type": "markdown",
   "metadata": {},
   "source": [
    "<hr>"
   ]
  },
  {
   "cell_type": "markdown",
   "metadata": {},
   "source": [
    "__Задача 2__\n",
    "\n",
    "Является ли значимым уравнение регрессии, полученное в предыдущей задаче? В качестве ответа запишите 1, если является, и 0 иначе.\n",
    "<hr>"
   ]
  },
  {
   "cell_type": "markdown",
   "metadata": {},
   "source": [
    "__РЕШЕНИЕ:__\n",
    "\n",
    "Проверим через __F-тест Фишера__. Формально при таком тесте проверяется нулевая гипотеза о том, что теоретический коэффициент детерминации равен $0$. Другими словами, если нулевая гипотеза верна, то между факторами и целевой переменной вообще нет никакой значимой зависимости, а отличие коэффициента детерминации от нуля обусловлено лишь случайностью процесса.\n",
    "\n",
    "При F-тесте используется статистика:\n",
    "$$F = \\dfrac{R^2 / m}{(1 - R^2) / (n - m - 1)},$$\n",
    "где $R^2$ — коэффициент детерминации, $n$ — число наблюдений, $m$ — число факторов. Такая статистика в предположении верности нулевой гипотезы имеет __F-распределение Фишера__ с параметрами $k_1 = m$, $k_2 = n - m - 1$.\n",
    "\n",
    "Распределение Фишера имеет один хвост, поэтому рассматривается правосторонняя критическая область $\\Omega_\\alpha = \\left( t_{1 - \\alpha, \\: k_1, k_2}, \\infty \\right)$, где $t_{1 - \\alpha, \\: k_1, k_2}$ — квантиль порядка $1 - \\alpha$ для распределения Фишера с параметрами $k_1$, $k_2$.\n",
    "\n",
    "Если статистика попадает в критическую область, то гипотеза о равенстве нулю коэффициента детерминации отвергается. Уравнение признаётся значимым."
   ]
  },
  {
   "cell_type": "code",
   "execution_count": 336,
   "metadata": {},
   "outputs": [
    {
     "data": {
      "text/plain": [
       "(2, 7)"
      ]
     },
     "execution_count": 336,
     "metadata": {},
     "output_type": "execute_result"
    }
   ],
   "source": [
    "R2 = 0.763424623879315\n",
    "m = 2\n",
    "n = 10\n",
    "\n",
    "k1 = m\n",
    "k2 = n - m - 1\n",
    "\n",
    "k1, k2"
   ]
  },
  {
   "cell_type": "markdown",
   "metadata": {
    "id": "0MEak3WcgvnR"
   },
   "source": [
    "Возьмём уровень значимости $\\alpha = 0.05$. Нужный нам квантиль можно посчитать с помощью функции `scipy.stats.f.ppf`:"
   ]
  },
  {
   "cell_type": "code",
   "execution_count": 337,
   "metadata": {
    "id": "eY_xPpicgvnR"
   },
   "outputs": [],
   "source": [
    "from scipy import stats"
   ]
  },
  {
   "cell_type": "code",
   "execution_count": 338,
   "metadata": {
    "id": "9k3hVinggvnR",
    "outputId": "a8455b71-527f-43db-97fc-0347a75ae412"
   },
   "outputs": [
    {
     "data": {
      "text/plain": [
       "4.73741412777588"
      ]
     },
     "execution_count": 338,
     "metadata": {},
     "output_type": "execute_result"
    }
   ],
   "source": [
    "alpha = 0.05\n",
    "\n",
    "t = stats.f.ppf(1 - alpha, k1, k2)\n",
    "t"
   ]
  },
  {
   "cell_type": "markdown",
   "metadata": {
    "id": "E4XqeFXtgvnS"
   },
   "source": [
    "Итак, критическая область:\n",
    "$$\\Omega_\\alpha = \\left( 4.734, \\infty \\right)$$"
   ]
  },
  {
   "cell_type": "code",
   "execution_count": 339,
   "metadata": {
    "id": "oL8aoU8FgvnS",
    "outputId": "9a88231d-560f-43df-b572-e5fa572fa646"
   },
   "outputs": [
    {
     "data": {
      "text/plain": [
       "(0.0, 0.5)"
      ]
     },
     "execution_count": 339,
     "metadata": {},
     "output_type": "execute_result"
    },
    {
     "data": {
      "image/svg+xml": [
       "<?xml version=\"1.0\" encoding=\"utf-8\" standalone=\"no\"?>\r\n",
       "<!DOCTYPE svg PUBLIC \"-//W3C//DTD SVG 1.1//EN\"\r\n",
       "  \"http://www.w3.org/Graphics/SVG/1.1/DTD/svg11.dtd\">\r\n",
       "<!-- Created with matplotlib (https://matplotlib.org/) -->\r\n",
       "<svg height=\"248.064219pt\" version=\"1.1\" viewBox=\"0 0 366.6 248.064219\" width=\"366.6pt\" xmlns=\"http://www.w3.org/2000/svg\" xmlns:xlink=\"http://www.w3.org/1999/xlink\">\r\n",
       " <metadata>\r\n",
       "  <rdf:RDF xmlns:cc=\"http://creativecommons.org/ns#\" xmlns:dc=\"http://purl.org/dc/elements/1.1/\" xmlns:rdf=\"http://www.w3.org/1999/02/22-rdf-syntax-ns#\">\r\n",
       "   <cc:Work>\r\n",
       "    <dc:type rdf:resource=\"http://purl.org/dc/dcmitype/StillImage\"/>\r\n",
       "    <dc:date>2022-01-20T16:10:35.307481</dc:date>\r\n",
       "    <dc:format>image/svg+xml</dc:format>\r\n",
       "    <dc:creator>\r\n",
       "     <cc:Agent>\r\n",
       "      <dc:title>Matplotlib v3.3.2, https://matplotlib.org/</dc:title>\r\n",
       "     </cc:Agent>\r\n",
       "    </dc:creator>\r\n",
       "   </cc:Work>\r\n",
       "  </rdf:RDF>\r\n",
       " </metadata>\r\n",
       " <defs>\r\n",
       "  <style type=\"text/css\">*{stroke-linecap:butt;stroke-linejoin:round;}</style>\r\n",
       " </defs>\r\n",
       " <g id=\"figure_1\">\r\n",
       "  <g id=\"patch_1\">\r\n",
       "   <path d=\"M 0 248.064219 \r\n",
       "L 366.6 248.064219 \r\n",
       "L 366.6 0 \r\n",
       "L 0 0 \r\n",
       "z\r\n",
       "\" style=\"fill:#ffffff;\"/>\r\n",
       "  </g>\r\n",
       "  <g id=\"axes_1\">\r\n",
       "   <g id=\"patch_2\">\r\n",
       "    <path d=\"M 24.6 228.218906 \r\n",
       "L 359.4 228.218906 \r\n",
       "L 359.4 10.778906 \r\n",
       "L 24.6 10.778906 \r\n",
       "z\r\n",
       "\" style=\"fill:#ffffff;\"/>\r\n",
       "   </g>\r\n",
       "   <g id=\"matplotlib.axis_1\">\r\n",
       "    <g id=\"xtick_1\">\r\n",
       "     <g id=\"line2d_1\">\r\n",
       "      <path clip-path=\"url(#p98e040bd81)\" d=\"M 39.818182 228.218906 \r\n",
       "L 39.818182 10.778906 \r\n",
       "\" style=\"fill:none;stroke:#cccccc;stroke-linecap:round;stroke-width:0.8;\"/>\r\n",
       "     </g>\r\n",
       "     <g id=\"line2d_2\"/>\r\n",
       "     <g id=\"text_1\">\r\n",
       "      <!-- 0 -->\r\n",
       "      <g style=\"fill:#262626;\" transform=\"translate(37.037713 238.876719)scale(0.1 -0.1)\">\r\n",
       "       <defs>\r\n",
       "        <path d=\"M 4.15625 35.296875 \r\n",
       "Q 4.15625 48 6.765625 55.734375 \r\n",
       "Q 9.375 63.484375 14.515625 67.671875 \r\n",
       "Q 19.671875 71.875 27.484375 71.875 \r\n",
       "Q 33.25 71.875 37.59375 69.546875 \r\n",
       "Q 41.9375 67.234375 44.765625 62.859375 \r\n",
       "Q 47.609375 58.5 49.21875 52.21875 \r\n",
       "Q 50.828125 45.953125 50.828125 35.296875 \r\n",
       "Q 50.828125 22.703125 48.234375 14.96875 \r\n",
       "Q 45.65625 7.234375 40.5 3 \r\n",
       "Q 35.359375 -1.21875 27.484375 -1.21875 \r\n",
       "Q 17.140625 -1.21875 11.234375 6.203125 \r\n",
       "Q 4.15625 15.140625 4.15625 35.296875 \r\n",
       "z\r\n",
       "M 13.1875 35.296875 \r\n",
       "Q 13.1875 17.671875 17.3125 11.828125 \r\n",
       "Q 21.4375 6 27.484375 6 \r\n",
       "Q 33.546875 6 37.671875 11.859375 \r\n",
       "Q 41.796875 17.71875 41.796875 35.296875 \r\n",
       "Q 41.796875 52.984375 37.671875 58.78125 \r\n",
       "Q 33.546875 64.59375 27.390625 64.59375 \r\n",
       "Q 21.34375 64.59375 17.71875 59.46875 \r\n",
       "Q 13.1875 52.9375 13.1875 35.296875 \r\n",
       "z\r\n",
       "\" id=\"ArialMT-48\"/>\r\n",
       "       </defs>\r\n",
       "       <use xlink:href=\"#ArialMT-48\"/>\r\n",
       "      </g>\r\n",
       "     </g>\r\n",
       "    </g>\r\n",
       "    <g id=\"xtick_2\">\r\n",
       "     <g id=\"line2d_3\">\r\n",
       "      <path clip-path=\"url(#p98e040bd81)\" d=\"M 90.545455 228.218906 \r\n",
       "L 90.545455 10.778906 \r\n",
       "\" style=\"fill:none;stroke:#cccccc;stroke-linecap:round;stroke-width:0.8;\"/>\r\n",
       "     </g>\r\n",
       "     <g id=\"line2d_4\"/>\r\n",
       "     <g id=\"text_2\">\r\n",
       "      <!-- 1 -->\r\n",
       "      <g style=\"fill:#262626;\" transform=\"translate(87.764986 238.876719)scale(0.1 -0.1)\">\r\n",
       "       <defs>\r\n",
       "        <path d=\"M 37.25 0 \r\n",
       "L 28.46875 0 \r\n",
       "L 28.46875 56 \r\n",
       "Q 25.296875 52.984375 20.140625 49.953125 \r\n",
       "Q 14.984375 46.921875 10.890625 45.40625 \r\n",
       "L 10.890625 53.90625 \r\n",
       "Q 18.265625 57.375 23.78125 62.296875 \r\n",
       "Q 29.296875 67.234375 31.59375 71.875 \r\n",
       "L 37.25 71.875 \r\n",
       "z\r\n",
       "\" id=\"ArialMT-49\"/>\r\n",
       "       </defs>\r\n",
       "       <use xlink:href=\"#ArialMT-49\"/>\r\n",
       "      </g>\r\n",
       "     </g>\r\n",
       "    </g>\r\n",
       "    <g id=\"xtick_3\">\r\n",
       "     <g id=\"line2d_5\">\r\n",
       "      <path clip-path=\"url(#p98e040bd81)\" d=\"M 141.272727 228.218906 \r\n",
       "L 141.272727 10.778906 \r\n",
       "\" style=\"fill:none;stroke:#cccccc;stroke-linecap:round;stroke-width:0.8;\"/>\r\n",
       "     </g>\r\n",
       "     <g id=\"line2d_6\"/>\r\n",
       "     <g id=\"text_3\">\r\n",
       "      <!-- 2 -->\r\n",
       "      <g style=\"fill:#262626;\" transform=\"translate(138.492259 238.876719)scale(0.1 -0.1)\">\r\n",
       "       <defs>\r\n",
       "        <path d=\"M 50.34375 8.453125 \r\n",
       "L 50.34375 0 \r\n",
       "L 3.03125 0 \r\n",
       "Q 2.9375 3.171875 4.046875 6.109375 \r\n",
       "Q 5.859375 10.9375 9.828125 15.625 \r\n",
       "Q 13.8125 20.3125 21.34375 26.46875 \r\n",
       "Q 33.015625 36.03125 37.109375 41.625 \r\n",
       "Q 41.21875 47.21875 41.21875 52.203125 \r\n",
       "Q 41.21875 57.421875 37.46875 61 \r\n",
       "Q 33.734375 64.59375 27.734375 64.59375 \r\n",
       "Q 21.390625 64.59375 17.578125 60.78125 \r\n",
       "Q 13.765625 56.984375 13.71875 50.25 \r\n",
       "L 4.6875 51.171875 \r\n",
       "Q 5.609375 61.28125 11.65625 66.578125 \r\n",
       "Q 17.71875 71.875 27.9375 71.875 \r\n",
       "Q 38.234375 71.875 44.234375 66.15625 \r\n",
       "Q 50.25 60.453125 50.25 52 \r\n",
       "Q 50.25 47.703125 48.484375 43.546875 \r\n",
       "Q 46.734375 39.40625 42.65625 34.8125 \r\n",
       "Q 38.578125 30.21875 29.109375 22.21875 \r\n",
       "Q 21.1875 15.578125 18.9375 13.203125 \r\n",
       "Q 16.703125 10.84375 15.234375 8.453125 \r\n",
       "z\r\n",
       "\" id=\"ArialMT-50\"/>\r\n",
       "       </defs>\r\n",
       "       <use xlink:href=\"#ArialMT-50\"/>\r\n",
       "      </g>\r\n",
       "     </g>\r\n",
       "    </g>\r\n",
       "    <g id=\"xtick_4\">\r\n",
       "     <g id=\"line2d_7\">\r\n",
       "      <path clip-path=\"url(#p98e040bd81)\" d=\"M 192 228.218906 \r\n",
       "L 192 10.778906 \r\n",
       "\" style=\"fill:none;stroke:#cccccc;stroke-linecap:round;stroke-width:0.8;\"/>\r\n",
       "     </g>\r\n",
       "     <g id=\"line2d_8\"/>\r\n",
       "     <g id=\"text_4\">\r\n",
       "      <!-- 3 -->\r\n",
       "      <g style=\"fill:#262626;\" transform=\"translate(189.219531 238.876719)scale(0.1 -0.1)\">\r\n",
       "       <defs>\r\n",
       "        <path d=\"M 4.203125 18.890625 \r\n",
       "L 12.984375 20.0625 \r\n",
       "Q 14.5 12.59375 18.140625 9.296875 \r\n",
       "Q 21.78125 6 27 6 \r\n",
       "Q 33.203125 6 37.46875 10.296875 \r\n",
       "Q 41.75 14.59375 41.75 20.953125 \r\n",
       "Q 41.75 27 37.796875 30.921875 \r\n",
       "Q 33.84375 34.859375 27.734375 34.859375 \r\n",
       "Q 25.25 34.859375 21.53125 33.890625 \r\n",
       "L 22.515625 41.609375 \r\n",
       "Q 23.390625 41.5 23.921875 41.5 \r\n",
       "Q 29.546875 41.5 34.03125 44.421875 \r\n",
       "Q 38.53125 47.359375 38.53125 53.46875 \r\n",
       "Q 38.53125 58.296875 35.25 61.46875 \r\n",
       "Q 31.984375 64.65625 26.8125 64.65625 \r\n",
       "Q 21.6875 64.65625 18.265625 61.421875 \r\n",
       "Q 14.84375 58.203125 13.875 51.765625 \r\n",
       "L 5.078125 53.328125 \r\n",
       "Q 6.6875 62.15625 12.390625 67.015625 \r\n",
       "Q 18.109375 71.875 26.609375 71.875 \r\n",
       "Q 32.46875 71.875 37.390625 69.359375 \r\n",
       "Q 42.328125 66.84375 44.9375 62.5 \r\n",
       "Q 47.5625 58.15625 47.5625 53.265625 \r\n",
       "Q 47.5625 48.640625 45.0625 44.828125 \r\n",
       "Q 42.578125 41.015625 37.703125 38.765625 \r\n",
       "Q 44.046875 37.3125 47.5625 32.6875 \r\n",
       "Q 51.078125 28.078125 51.078125 21.140625 \r\n",
       "Q 51.078125 11.765625 44.234375 5.25 \r\n",
       "Q 37.40625 -1.265625 26.953125 -1.265625 \r\n",
       "Q 17.53125 -1.265625 11.296875 4.34375 \r\n",
       "Q 5.078125 9.96875 4.203125 18.890625 \r\n",
       "z\r\n",
       "\" id=\"ArialMT-51\"/>\r\n",
       "       </defs>\r\n",
       "       <use xlink:href=\"#ArialMT-51\"/>\r\n",
       "      </g>\r\n",
       "     </g>\r\n",
       "    </g>\r\n",
       "    <g id=\"xtick_5\">\r\n",
       "     <g id=\"line2d_9\">\r\n",
       "      <path clip-path=\"url(#p98e040bd81)\" d=\"M 242.727273 228.218906 \r\n",
       "L 242.727273 10.778906 \r\n",
       "\" style=\"fill:none;stroke:#cccccc;stroke-linecap:round;stroke-width:0.8;\"/>\r\n",
       "     </g>\r\n",
       "     <g id=\"line2d_10\"/>\r\n",
       "     <g id=\"text_5\">\r\n",
       "      <!-- 4 -->\r\n",
       "      <g style=\"fill:#262626;\" transform=\"translate(239.946804 238.876719)scale(0.1 -0.1)\">\r\n",
       "       <defs>\r\n",
       "        <path d=\"M 32.328125 0 \r\n",
       "L 32.328125 17.140625 \r\n",
       "L 1.265625 17.140625 \r\n",
       "L 1.265625 25.203125 \r\n",
       "L 33.9375 71.578125 \r\n",
       "L 41.109375 71.578125 \r\n",
       "L 41.109375 25.203125 \r\n",
       "L 50.78125 25.203125 \r\n",
       "L 50.78125 17.140625 \r\n",
       "L 41.109375 17.140625 \r\n",
       "L 41.109375 0 \r\n",
       "z\r\n",
       "M 32.328125 25.203125 \r\n",
       "L 32.328125 57.46875 \r\n",
       "L 9.90625 25.203125 \r\n",
       "z\r\n",
       "\" id=\"ArialMT-52\"/>\r\n",
       "       </defs>\r\n",
       "       <use xlink:href=\"#ArialMT-52\"/>\r\n",
       "      </g>\r\n",
       "     </g>\r\n",
       "    </g>\r\n",
       "    <g id=\"xtick_6\">\r\n",
       "     <g id=\"line2d_11\">\r\n",
       "      <path clip-path=\"url(#p98e040bd81)\" d=\"M 293.454545 228.218906 \r\n",
       "L 293.454545 10.778906 \r\n",
       "\" style=\"fill:none;stroke:#cccccc;stroke-linecap:round;stroke-width:0.8;\"/>\r\n",
       "     </g>\r\n",
       "     <g id=\"line2d_12\"/>\r\n",
       "     <g id=\"text_6\">\r\n",
       "      <!-- 5 -->\r\n",
       "      <g style=\"fill:#262626;\" transform=\"translate(290.674077 238.876719)scale(0.1 -0.1)\">\r\n",
       "       <defs>\r\n",
       "        <path d=\"M 4.15625 18.75 \r\n",
       "L 13.375 19.53125 \r\n",
       "Q 14.40625 12.796875 18.140625 9.390625 \r\n",
       "Q 21.875 6 27.15625 6 \r\n",
       "Q 33.5 6 37.890625 10.78125 \r\n",
       "Q 42.28125 15.578125 42.28125 23.484375 \r\n",
       "Q 42.28125 31 38.0625 35.34375 \r\n",
       "Q 33.84375 39.703125 27 39.703125 \r\n",
       "Q 22.75 39.703125 19.328125 37.765625 \r\n",
       "Q 15.921875 35.84375 13.96875 32.765625 \r\n",
       "L 5.71875 33.84375 \r\n",
       "L 12.640625 70.609375 \r\n",
       "L 48.25 70.609375 \r\n",
       "L 48.25 62.203125 \r\n",
       "L 19.671875 62.203125 \r\n",
       "L 15.828125 42.96875 \r\n",
       "Q 22.265625 47.46875 29.34375 47.46875 \r\n",
       "Q 38.71875 47.46875 45.15625 40.96875 \r\n",
       "Q 51.609375 34.46875 51.609375 24.265625 \r\n",
       "Q 51.609375 14.546875 45.953125 7.46875 \r\n",
       "Q 39.0625 -1.21875 27.15625 -1.21875 \r\n",
       "Q 17.390625 -1.21875 11.203125 4.25 \r\n",
       "Q 5.03125 9.71875 4.15625 18.75 \r\n",
       "z\r\n",
       "\" id=\"ArialMT-53\"/>\r\n",
       "       </defs>\r\n",
       "       <use xlink:href=\"#ArialMT-53\"/>\r\n",
       "      </g>\r\n",
       "     </g>\r\n",
       "    </g>\r\n",
       "    <g id=\"xtick_7\">\r\n",
       "     <g id=\"line2d_13\">\r\n",
       "      <path clip-path=\"url(#p98e040bd81)\" d=\"M 344.181818 228.218906 \r\n",
       "L 344.181818 10.778906 \r\n",
       "\" style=\"fill:none;stroke:#cccccc;stroke-linecap:round;stroke-width:0.8;\"/>\r\n",
       "     </g>\r\n",
       "     <g id=\"line2d_14\"/>\r\n",
       "     <g id=\"text_7\">\r\n",
       "      <!-- 6 -->\r\n",
       "      <g style=\"fill:#262626;\" transform=\"translate(341.401349 238.876719)scale(0.1 -0.1)\">\r\n",
       "       <defs>\r\n",
       "        <path d=\"M 49.75 54.046875 \r\n",
       "L 41.015625 53.375 \r\n",
       "Q 39.84375 58.546875 37.703125 60.890625 \r\n",
       "Q 34.125 64.65625 28.90625 64.65625 \r\n",
       "Q 24.703125 64.65625 21.53125 62.3125 \r\n",
       "Q 17.390625 59.28125 14.984375 53.46875 \r\n",
       "Q 12.59375 47.65625 12.5 36.921875 \r\n",
       "Q 15.671875 41.75 20.265625 44.09375 \r\n",
       "Q 24.859375 46.4375 29.890625 46.4375 \r\n",
       "Q 38.671875 46.4375 44.84375 39.96875 \r\n",
       "Q 51.03125 33.5 51.03125 23.25 \r\n",
       "Q 51.03125 16.5 48.125 10.71875 \r\n",
       "Q 45.21875 4.9375 40.140625 1.859375 \r\n",
       "Q 35.0625 -1.21875 28.609375 -1.21875 \r\n",
       "Q 17.625 -1.21875 10.6875 6.859375 \r\n",
       "Q 3.765625 14.9375 3.765625 33.5 \r\n",
       "Q 3.765625 54.25 11.421875 63.671875 \r\n",
       "Q 18.109375 71.875 29.4375 71.875 \r\n",
       "Q 37.890625 71.875 43.28125 67.140625 \r\n",
       "Q 48.6875 62.40625 49.75 54.046875 \r\n",
       "z\r\n",
       "M 13.875 23.1875 \r\n",
       "Q 13.875 18.65625 15.796875 14.5 \r\n",
       "Q 17.71875 10.359375 21.1875 8.171875 \r\n",
       "Q 24.65625 6 28.46875 6 \r\n",
       "Q 34.03125 6 38.03125 10.484375 \r\n",
       "Q 42.046875 14.984375 42.046875 22.703125 \r\n",
       "Q 42.046875 30.125 38.078125 34.390625 \r\n",
       "Q 34.125 38.671875 28.125 38.671875 \r\n",
       "Q 22.171875 38.671875 18.015625 34.390625 \r\n",
       "Q 13.875 30.125 13.875 23.1875 \r\n",
       "z\r\n",
       "\" id=\"ArialMT-54\"/>\r\n",
       "       </defs>\r\n",
       "       <use xlink:href=\"#ArialMT-54\"/>\r\n",
       "      </g>\r\n",
       "     </g>\r\n",
       "    </g>\r\n",
       "   </g>\r\n",
       "   <g id=\"matplotlib.axis_2\">\r\n",
       "    <g id=\"ytick_1\">\r\n",
       "     <g id=\"line2d_15\">\r\n",
       "      <path clip-path=\"url(#p98e040bd81)\" d=\"M 24.6 228.218906 \r\n",
       "L 359.4 228.218906 \r\n",
       "\" style=\"fill:none;stroke:#cccccc;stroke-linecap:round;stroke-width:0.8;\"/>\r\n",
       "     </g>\r\n",
       "     <g id=\"line2d_16\"/>\r\n",
       "     <g id=\"text_8\">\r\n",
       "      <!-- 0.0 -->\r\n",
       "      <g style=\"fill:#262626;\" transform=\"translate(7.2 231.797812)scale(0.1 -0.1)\">\r\n",
       "       <defs>\r\n",
       "        <path d=\"M 9.078125 0 \r\n",
       "L 9.078125 10.015625 \r\n",
       "L 19.09375 10.015625 \r\n",
       "L 19.09375 0 \r\n",
       "z\r\n",
       "\" id=\"ArialMT-46\"/>\r\n",
       "       </defs>\r\n",
       "       <use xlink:href=\"#ArialMT-48\"/>\r\n",
       "       <use x=\"55.615234\" xlink:href=\"#ArialMT-46\"/>\r\n",
       "       <use x=\"83.398438\" xlink:href=\"#ArialMT-48\"/>\r\n",
       "      </g>\r\n",
       "     </g>\r\n",
       "    </g>\r\n",
       "    <g id=\"ytick_2\">\r\n",
       "     <g id=\"line2d_17\">\r\n",
       "      <path clip-path=\"url(#p98e040bd81)\" d=\"M 24.6 184.730906 \r\n",
       "L 359.4 184.730906 \r\n",
       "\" style=\"fill:none;stroke:#cccccc;stroke-linecap:round;stroke-width:0.8;\"/>\r\n",
       "     </g>\r\n",
       "     <g id=\"line2d_18\"/>\r\n",
       "     <g id=\"text_9\">\r\n",
       "      <!-- 0.1 -->\r\n",
       "      <g style=\"fill:#262626;\" transform=\"translate(7.2 188.309812)scale(0.1 -0.1)\">\r\n",
       "       <use xlink:href=\"#ArialMT-48\"/>\r\n",
       "       <use x=\"55.615234\" xlink:href=\"#ArialMT-46\"/>\r\n",
       "       <use x=\"83.398438\" xlink:href=\"#ArialMT-49\"/>\r\n",
       "      </g>\r\n",
       "     </g>\r\n",
       "    </g>\r\n",
       "    <g id=\"ytick_3\">\r\n",
       "     <g id=\"line2d_19\">\r\n",
       "      <path clip-path=\"url(#p98e040bd81)\" d=\"M 24.6 141.242906 \r\n",
       "L 359.4 141.242906 \r\n",
       "\" style=\"fill:none;stroke:#cccccc;stroke-linecap:round;stroke-width:0.8;\"/>\r\n",
       "     </g>\r\n",
       "     <g id=\"line2d_20\"/>\r\n",
       "     <g id=\"text_10\">\r\n",
       "      <!-- 0.2 -->\r\n",
       "      <g style=\"fill:#262626;\" transform=\"translate(7.2 144.821812)scale(0.1 -0.1)\">\r\n",
       "       <use xlink:href=\"#ArialMT-48\"/>\r\n",
       "       <use x=\"55.615234\" xlink:href=\"#ArialMT-46\"/>\r\n",
       "       <use x=\"83.398438\" xlink:href=\"#ArialMT-50\"/>\r\n",
       "      </g>\r\n",
       "     </g>\r\n",
       "    </g>\r\n",
       "    <g id=\"ytick_4\">\r\n",
       "     <g id=\"line2d_21\">\r\n",
       "      <path clip-path=\"url(#p98e040bd81)\" d=\"M 24.6 97.754906 \r\n",
       "L 359.4 97.754906 \r\n",
       "\" style=\"fill:none;stroke:#cccccc;stroke-linecap:round;stroke-width:0.8;\"/>\r\n",
       "     </g>\r\n",
       "     <g id=\"line2d_22\"/>\r\n",
       "     <g id=\"text_11\">\r\n",
       "      <!-- 0.3 -->\r\n",
       "      <g style=\"fill:#262626;\" transform=\"translate(7.2 101.333812)scale(0.1 -0.1)\">\r\n",
       "       <use xlink:href=\"#ArialMT-48\"/>\r\n",
       "       <use x=\"55.615234\" xlink:href=\"#ArialMT-46\"/>\r\n",
       "       <use x=\"83.398438\" xlink:href=\"#ArialMT-51\"/>\r\n",
       "      </g>\r\n",
       "     </g>\r\n",
       "    </g>\r\n",
       "    <g id=\"ytick_5\">\r\n",
       "     <g id=\"line2d_23\">\r\n",
       "      <path clip-path=\"url(#p98e040bd81)\" d=\"M 24.6 54.266906 \r\n",
       "L 359.4 54.266906 \r\n",
       "\" style=\"fill:none;stroke:#cccccc;stroke-linecap:round;stroke-width:0.8;\"/>\r\n",
       "     </g>\r\n",
       "     <g id=\"line2d_24\"/>\r\n",
       "     <g id=\"text_12\">\r\n",
       "      <!-- 0.4 -->\r\n",
       "      <g style=\"fill:#262626;\" transform=\"translate(7.2 57.845812)scale(0.1 -0.1)\">\r\n",
       "       <use xlink:href=\"#ArialMT-48\"/>\r\n",
       "       <use x=\"55.615234\" xlink:href=\"#ArialMT-46\"/>\r\n",
       "       <use x=\"83.398438\" xlink:href=\"#ArialMT-52\"/>\r\n",
       "      </g>\r\n",
       "     </g>\r\n",
       "    </g>\r\n",
       "    <g id=\"ytick_6\">\r\n",
       "     <g id=\"line2d_25\">\r\n",
       "      <path clip-path=\"url(#p98e040bd81)\" d=\"M 24.6 10.778906 \r\n",
       "L 359.4 10.778906 \r\n",
       "\" style=\"fill:none;stroke:#cccccc;stroke-linecap:round;stroke-width:0.8;\"/>\r\n",
       "     </g>\r\n",
       "     <g id=\"line2d_26\"/>\r\n",
       "     <g id=\"text_13\">\r\n",
       "      <!-- 0.5 -->\r\n",
       "      <g style=\"fill:#262626;\" transform=\"translate(7.2 14.357812)scale(0.1 -0.1)\">\r\n",
       "       <use xlink:href=\"#ArialMT-48\"/>\r\n",
       "       <use x=\"55.615234\" xlink:href=\"#ArialMT-46\"/>\r\n",
       "       <use x=\"83.398438\" xlink:href=\"#ArialMT-53\"/>\r\n",
       "      </g>\r\n",
       "     </g>\r\n",
       "    </g>\r\n",
       "   </g>\r\n",
       "   <g id=\"PolyCollection_1\">\r\n",
       "    <path clip-path=\"url(#p98e040bd81)\" d=\"M 280.13428 228.218906 \r\n",
       "L 280.13428 218.980085 \r\n",
       "L 280.781225 219.044179 \r\n",
       "L 281.42817 219.10773 \r\n",
       "L 282.075115 219.170744 \r\n",
       "L 282.72206 219.233226 \r\n",
       "L 283.369004 219.295182 \r\n",
       "L 284.015949 219.356617 \r\n",
       "L 284.662894 219.417535 \r\n",
       "L 285.309839 219.477942 \r\n",
       "L 285.956784 219.537843 \r\n",
       "L 286.603729 219.597244 \r\n",
       "L 287.250673 219.656148 \r\n",
       "L 287.897618 219.714561 \r\n",
       "L 288.544563 219.772488 \r\n",
       "L 289.191508 219.829934 \r\n",
       "L 289.838453 219.886902 \r\n",
       "L 290.485398 219.943399 \r\n",
       "L 291.132342 219.999428 \r\n",
       "L 291.779287 220.054994 \r\n",
       "L 292.426232 220.110101 \r\n",
       "L 293.073177 220.164755 \r\n",
       "L 293.720122 220.218959 \r\n",
       "L 294.367066 220.272718 \r\n",
       "L 295.014011 220.326036 \r\n",
       "L 295.660956 220.378917 \r\n",
       "L 296.307901 220.431366 \r\n",
       "L 296.954846 220.483387 \r\n",
       "L 297.601791 220.534984 \r\n",
       "L 298.248735 220.586161 \r\n",
       "L 298.89568 220.636921 \r\n",
       "L 299.542625 220.68727 \r\n",
       "L 300.18957 220.737211 \r\n",
       "L 300.836515 220.786747 \r\n",
       "L 301.48346 220.835884 \r\n",
       "L 302.130404 220.884623 \r\n",
       "L 302.777349 220.932971 \r\n",
       "L 303.424294 220.980929 \r\n",
       "L 304.071239 221.028502 \r\n",
       "L 304.718184 221.075693 \r\n",
       "L 305.365129 221.122506 \r\n",
       "L 306.012073 221.168945 \r\n",
       "L 306.659018 221.215013 \r\n",
       "L 307.305963 221.260714 \r\n",
       "L 307.952908 221.30605 \r\n",
       "L 308.599853 221.351027 \r\n",
       "L 309.246798 221.395646 \r\n",
       "L 309.893742 221.439911 \r\n",
       "L 310.540687 221.483826 \r\n",
       "L 311.187632 221.527393 \r\n",
       "L 311.834577 221.570617 \r\n",
       "L 312.481522 221.6135 \r\n",
       "L 313.128466 221.656045 \r\n",
       "L 313.775411 221.698256 \r\n",
       "L 314.422356 221.740135 \r\n",
       "L 315.069301 221.781686 \r\n",
       "L 315.716246 221.822912 \r\n",
       "L 316.363191 221.863816 \r\n",
       "L 317.010135 221.9044 \r\n",
       "L 317.65708 221.944668 \r\n",
       "L 318.304025 221.984623 \r\n",
       "L 318.95097 222.024267 \r\n",
       "L 319.597915 222.063604 \r\n",
       "L 320.24486 222.102635 \r\n",
       "L 320.891804 222.141365 \r\n",
       "L 321.538749 222.179795 \r\n",
       "L 322.185694 222.217929 \r\n",
       "L 322.832639 222.255768 \r\n",
       "L 323.479584 222.293317 \r\n",
       "L 324.126529 222.330577 \r\n",
       "L 324.773473 222.367551 \r\n",
       "L 325.420418 222.404241 \r\n",
       "L 326.067363 222.440651 \r\n",
       "L 326.714308 222.476783 \r\n",
       "L 327.361253 222.512639 \r\n",
       "L 328.008198 222.548221 \r\n",
       "L 328.655142 222.583533 \r\n",
       "L 329.302087 222.618576 \r\n",
       "L 329.949032 222.653354 \r\n",
       "L 330.595977 222.687867 \r\n",
       "L 331.242922 222.72212 \r\n",
       "L 331.889866 222.756114 \r\n",
       "L 332.536811 222.789851 \r\n",
       "L 333.183756 222.823333 \r\n",
       "L 333.830701 222.856564 \r\n",
       "L 334.477646 222.889545 \r\n",
       "L 335.124591 222.922278 \r\n",
       "L 335.771535 222.954766 \r\n",
       "L 336.41848 222.987011 \r\n",
       "L 337.065425 223.019014 \r\n",
       "L 337.71237 223.050779 \r\n",
       "L 338.359315 223.082307 \r\n",
       "L 339.00626 223.1136 \r\n",
       "L 339.653204 223.14466 \r\n",
       "L 340.300149 223.17549 \r\n",
       "L 340.947094 223.206091 \r\n",
       "L 341.594039 223.236466 \r\n",
       "L 342.240984 223.266616 \r\n",
       "L 342.887929 223.296543 \r\n",
       "L 343.534873 223.326249 \r\n",
       "L 344.181818 223.355737 \r\n",
       "L 344.181818 228.218906 \r\n",
       "L 344.181818 228.218906 \r\n",
       "L 343.534873 228.218906 \r\n",
       "L 342.887929 228.218906 \r\n",
       "L 342.240984 228.218906 \r\n",
       "L 341.594039 228.218906 \r\n",
       "L 340.947094 228.218906 \r\n",
       "L 340.300149 228.218906 \r\n",
       "L 339.653204 228.218906 \r\n",
       "L 339.00626 228.218906 \r\n",
       "L 338.359315 228.218906 \r\n",
       "L 337.71237 228.218906 \r\n",
       "L 337.065425 228.218906 \r\n",
       "L 336.41848 228.218906 \r\n",
       "L 335.771535 228.218906 \r\n",
       "L 335.124591 228.218906 \r\n",
       "L 334.477646 228.218906 \r\n",
       "L 333.830701 228.218906 \r\n",
       "L 333.183756 228.218906 \r\n",
       "L 332.536811 228.218906 \r\n",
       "L 331.889866 228.218906 \r\n",
       "L 331.242922 228.218906 \r\n",
       "L 330.595977 228.218906 \r\n",
       "L 329.949032 228.218906 \r\n",
       "L 329.302087 228.218906 \r\n",
       "L 328.655142 228.218906 \r\n",
       "L 328.008198 228.218906 \r\n",
       "L 327.361253 228.218906 \r\n",
       "L 326.714308 228.218906 \r\n",
       "L 326.067363 228.218906 \r\n",
       "L 325.420418 228.218906 \r\n",
       "L 324.773473 228.218906 \r\n",
       "L 324.126529 228.218906 \r\n",
       "L 323.479584 228.218906 \r\n",
       "L 322.832639 228.218906 \r\n",
       "L 322.185694 228.218906 \r\n",
       "L 321.538749 228.218906 \r\n",
       "L 320.891804 228.218906 \r\n",
       "L 320.24486 228.218906 \r\n",
       "L 319.597915 228.218906 \r\n",
       "L 318.95097 228.218906 \r\n",
       "L 318.304025 228.218906 \r\n",
       "L 317.65708 228.218906 \r\n",
       "L 317.010135 228.218906 \r\n",
       "L 316.363191 228.218906 \r\n",
       "L 315.716246 228.218906 \r\n",
       "L 315.069301 228.218906 \r\n",
       "L 314.422356 228.218906 \r\n",
       "L 313.775411 228.218906 \r\n",
       "L 313.128466 228.218906 \r\n",
       "L 312.481522 228.218906 \r\n",
       "L 311.834577 228.218906 \r\n",
       "L 311.187632 228.218906 \r\n",
       "L 310.540687 228.218906 \r\n",
       "L 309.893742 228.218906 \r\n",
       "L 309.246798 228.218906 \r\n",
       "L 308.599853 228.218906 \r\n",
       "L 307.952908 228.218906 \r\n",
       "L 307.305963 228.218906 \r\n",
       "L 306.659018 228.218906 \r\n",
       "L 306.012073 228.218906 \r\n",
       "L 305.365129 228.218906 \r\n",
       "L 304.718184 228.218906 \r\n",
       "L 304.071239 228.218906 \r\n",
       "L 303.424294 228.218906 \r\n",
       "L 302.777349 228.218906 \r\n",
       "L 302.130404 228.218906 \r\n",
       "L 301.48346 228.218906 \r\n",
       "L 300.836515 228.218906 \r\n",
       "L 300.18957 228.218906 \r\n",
       "L 299.542625 228.218906 \r\n",
       "L 298.89568 228.218906 \r\n",
       "L 298.248735 228.218906 \r\n",
       "L 297.601791 228.218906 \r\n",
       "L 296.954846 228.218906 \r\n",
       "L 296.307901 228.218906 \r\n",
       "L 295.660956 228.218906 \r\n",
       "L 295.014011 228.218906 \r\n",
       "L 294.367066 228.218906 \r\n",
       "L 293.720122 228.218906 \r\n",
       "L 293.073177 228.218906 \r\n",
       "L 292.426232 228.218906 \r\n",
       "L 291.779287 228.218906 \r\n",
       "L 291.132342 228.218906 \r\n",
       "L 290.485398 228.218906 \r\n",
       "L 289.838453 228.218906 \r\n",
       "L 289.191508 228.218906 \r\n",
       "L 288.544563 228.218906 \r\n",
       "L 287.897618 228.218906 \r\n",
       "L 287.250673 228.218906 \r\n",
       "L 286.603729 228.218906 \r\n",
       "L 285.956784 228.218906 \r\n",
       "L 285.309839 228.218906 \r\n",
       "L 284.662894 228.218906 \r\n",
       "L 284.015949 228.218906 \r\n",
       "L 283.369004 228.218906 \r\n",
       "L 282.72206 228.218906 \r\n",
       "L 282.075115 228.218906 \r\n",
       "L 281.42817 228.218906 \r\n",
       "L 280.781225 228.218906 \r\n",
       "L 280.13428 228.218906 \r\n",
       "z\r\n",
       "\" style=\"fill:#1f77b4;fill-opacity:0.5;\"/>\r\n",
       "   </g>\r\n",
       "   <g id=\"line2d_27\">\r\n",
       "    <path clip-path=\"url(#p98e040bd81)\" d=\"M 66.972061 -1 \r\n",
       "L 69.705593 12.288703 \r\n",
       "L 72.755329 26.015004 \r\n",
       "L 75.805065 38.689761 \r\n",
       "L 78.854801 50.406865 \r\n",
       "L 81.904536 61.250665 \r\n",
       "L 84.954272 71.297052 \r\n",
       "L 88.004008 80.614409 \r\n",
       "L 91.053744 89.264439 \r\n",
       "L 94.10348 97.302901 \r\n",
       "L 97.153216 104.780242 \r\n",
       "L 100.202951 111.742172 \r\n",
       "L 103.252687 118.230155 \r\n",
       "L 106.91237 125.442911 \r\n",
       "L 110.572053 132.085902 \r\n",
       "L 114.231736 138.211565 \r\n",
       "L 117.891419 143.866843 \r\n",
       "L 121.551102 149.093835 \r\n",
       "L 125.210785 153.93035 \r\n",
       "L 128.870468 158.410399 \r\n",
       "L 132.530151 162.564618 \r\n",
       "L 136.189834 166.420647 \r\n",
       "L 140.459464 170.575644 \r\n",
       "L 144.729095 174.394248 \r\n",
       "L 148.998725 177.908176 \r\n",
       "L 153.268355 181.145745 \r\n",
       "L 157.537985 184.132279 \r\n",
       "L 162.417562 187.267058 \r\n",
       "L 167.29714 190.133662 \r\n",
       "L 172.176717 192.758787 \r\n",
       "L 177.666242 195.452785 \r\n",
       "L 183.155766 197.900804 \r\n",
       "L 189.255238 200.363975 \r\n",
       "L 195.354709 202.586917 \r\n",
       "L 202.064128 204.787049 \r\n",
       "L 208.773547 206.760708 \r\n",
       "L 216.092913 208.687176 \r\n",
       "L 224.022226 210.541167 \r\n",
       "L 232.561487 212.303048 \r\n",
       "L 241.710694 213.958598 \r\n",
       "L 251.469849 215.498553 \r\n",
       "L 262.448898 216.995312 \r\n",
       "L 274.037894 218.348405 \r\n",
       "L 286.846784 219.619432 \r\n",
       "L 300.875569 220.789725 \r\n",
       "L 316.734196 221.887129 \r\n",
       "L 334.422664 222.886752 \r\n",
       "L 344.181818 223.355737 \r\n",
       "L 344.181818 223.355737 \r\n",
       "\" style=\"fill:none;stroke:#1f77b4;stroke-linecap:round;stroke-width:1.5;\"/>\r\n",
       "   </g>\r\n",
       "   <g id=\"patch_3\">\r\n",
       "    <path d=\"M 24.6 228.218906 \r\n",
       "L 24.6 10.778906 \r\n",
       "\" style=\"fill:none;stroke:#cccccc;stroke-linecap:square;stroke-linejoin:miter;\"/>\r\n",
       "   </g>\r\n",
       "   <g id=\"patch_4\">\r\n",
       "    <path d=\"M 359.4 228.218906 \r\n",
       "L 359.4 10.778906 \r\n",
       "\" style=\"fill:none;stroke:#cccccc;stroke-linecap:square;stroke-linejoin:miter;\"/>\r\n",
       "   </g>\r\n",
       "   <g id=\"patch_5\">\r\n",
       "    <path d=\"M 24.6 228.218906 \r\n",
       "L 359.4 228.218906 \r\n",
       "\" style=\"fill:none;stroke:#cccccc;stroke-linecap:square;stroke-linejoin:miter;\"/>\r\n",
       "   </g>\r\n",
       "   <g id=\"patch_6\">\r\n",
       "    <path d=\"M 24.6 10.778906 \r\n",
       "L 359.4 10.778906 \r\n",
       "\" style=\"fill:none;stroke:#cccccc;stroke-linecap:square;stroke-linejoin:miter;\"/>\r\n",
       "   </g>\r\n",
       "  </g>\r\n",
       " </g>\r\n",
       " <defs>\r\n",
       "  <clipPath id=\"p98e040bd81\">\r\n",
       "   <rect height=\"217.44\" width=\"334.8\" x=\"24.6\" y=\"10.778906\"/>\r\n",
       "  </clipPath>\r\n",
       " </defs>\r\n",
       "</svg>\r\n"
      ],
      "text/plain": [
       "<Figure size 432x288 with 1 Axes>"
      ]
     },
     "metadata": {},
     "output_type": "display_data"
    }
   ],
   "source": [
    "ox = np.linspace(0, 6, 500)\n",
    "oy = stats.f.pdf(ox, k1, k2)\n",
    "\n",
    "ox_right = np.linspace(t, 6, 100)\n",
    "oy_right = stats.f.pdf(ox_right, k1, k2)\n",
    "\n",
    "plt.plot(ox, oy)\n",
    "plt.fill_between(ox_right, oy_right, alpha=0.5)\n",
    "\n",
    "plt.ylim(0, 0.5)"
   ]
  },
  {
   "cell_type": "markdown",
   "metadata": {
    "id": "Ev6LANGSgvnS"
   },
   "source": [
    "Считаем значение статистики:"
   ]
  },
  {
   "cell_type": "code",
   "execution_count": 340,
   "metadata": {
    "id": "4K-oStYMgvnS",
    "outputId": "2d7aa543-0ba9-4efa-86b0-460bd582ce1f"
   },
   "outputs": [
    {
     "data": {
      "text/plain": [
       "11.294439122922636"
      ]
     },
     "execution_count": 340,
     "metadata": {},
     "output_type": "execute_result"
    }
   ],
   "source": [
    "F = (R2 / k1) / ((1 - R2) / k2)\n",
    "F"
   ]
  },
  {
   "cell_type": "markdown",
   "metadata": {},
   "source": [
    "__Статистика попала в критическую область - значит гипотеза о равенстве нулю коэффициента детерминации отвергается. Уравнение признаётся значимым.\n",
    "ОТВЕТ: 1__"
   ]
  },
  {
   "cell_type": "markdown",
   "metadata": {},
   "source": [
    "<hr>"
   ]
  },
  {
   "cell_type": "markdown",
   "metadata": {},
   "source": [
    "__Задача 3__\n",
    "\n",
    "Для проведения A/B-тестирования сайта интернет-магазина были получены следующие данные: страница `A` была посещена 2509 раз, из них 77 закончились совершением покупки, страница `B` была посещена 1465 раз, 60 из них закончились совершением покупки. Является ли значимым отличие конверсии на страницах `A` и `B`? В качестве ответа запишите 1, если является, и 0 иначе.\n",
    "\n",
    "_Подсказка_. Реализуйте двухвыборочный t-тест. В качестве выборок здесь можно взять наборы меток совершения покупки (0 или 1) каждым посетителем.\n",
    "<hr>"
   ]
  },
  {
   "cell_type": "markdown",
   "metadata": {
    "id": "F1fjFQazgvnW"
   },
   "source": [
    "### Двухвыборочный t-тест\n",
    "\n",
    "Ранее с помощью распределения Стьюдента мы научились проверять гипотезы о математическом ожидании и о коэффициенте корреляции.\n",
    "\n",
    "Распределение Стьюдента также можно применять для следующей __задачи__. Имеются две независимые выборки $X_1$, $X_2$, взятые, соответственно, из распределений $D_1$, $D_2$. Требуется проверить гипотезу о том, что математические ожидания двух соответствующих распределений равны, т.е.\n",
    "$$H_0: \\: M(D_1) = M(D_2)$$"
   ]
  },
  {
   "cell_type": "markdown",
   "metadata": {},
   "source": []
  },
  {
   "cell_type": "code",
   "execution_count": 345,
   "metadata": {},
   "outputs": [
    {
     "data": {
      "text/plain": [
       "(0.02793292095844359, 0.03608556693806071)"
      ]
     },
     "execution_count": 345,
     "metadata": {},
     "output_type": "execute_result"
    }
   ],
   "source": [
    "n1 = 2509\n",
    "success1 = 77\n",
    "n2 = 1465\n",
    "success2 = 60\n",
    "mean1 = success1 / n1\n",
    "mean2 = success2 / n2\n",
    "std1 = ((((1 - mean1)**2)*success1) + ((-mean1**2)*(n1-success1)))/(n1-1)\n",
    "std2 = ((((1 - mean2)**2)*success2) + ((-mean2**2)*(n2-success2)))/(n2-1)\n",
    "std1, std2"
   ]
  },
  {
   "cell_type": "code",
   "execution_count": 347,
   "metadata": {},
   "outputs": [
    {
     "data": {
      "text/plain": [
       "-9.372294067911469"
      ]
     },
     "execution_count": 347,
     "metadata": {},
     "output_type": "execute_result"
    }
   ],
   "source": [
    "s_delta = np.sqrt(std1 ** 2 / n1 + std2 ** 2 / n2)\n",
    "t = (mean1 - mean2) / s_delta\n",
    "t"
   ]
  },
  {
   "cell_type": "code",
   "execution_count": null,
   "metadata": {},
   "outputs": [],
   "source": [
    "df = (std1 ** 2 / n1 + std2 ** 2 / n2) ** 2 / \\\n",
    "    ((std2 ** 2 / n1) ** 2 / (n1 - 1) + (std2 ** 2 / n2) ** 2 / (n2 - 1))"
   ]
  },
  {
   "cell_type": "code",
   "execution_count": null,
   "metadata": {},
   "outputs": [],
   "source": []
  },
  {
   "cell_type": "code",
   "execution_count": null,
   "metadata": {},
   "outputs": [],
   "source": []
  },
  {
   "cell_type": "code",
   "execution_count": null,
   "metadata": {},
   "outputs": [],
   "source": []
  }
 ],
 "metadata": {
  "colab": {
   "collapsed_sections": [],
   "name": "practice7.ipynb",
   "provenance": []
  },
  "kernelspec": {
   "display_name": "Python 3",
   "language": "python",
   "name": "python3"
  },
  "language_info": {
   "codemirror_mode": {
    "name": "ipython",
    "version": 3
   },
   "file_extension": ".py",
   "mimetype": "text/x-python",
   "name": "python",
   "nbconvert_exporter": "python",
   "pygments_lexer": "ipython3",
   "version": "3.8.5"
  }
 },
 "nbformat": 4,
 "nbformat_minor": 4
}
