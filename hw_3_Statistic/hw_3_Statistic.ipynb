{
 "cells": [
  {
   "cell_type": "markdown",
   "id": "d577e392",
   "metadata": {},
   "source": [
    "### hw_ 3  \n",
    "\n",
    "### Основы математической статистики. Количественные характеристики популяции. Графическое представление данных"
   ]
  },
  {
   "cell_type": "code",
   "execution_count": null,
   "id": "bf9ae417",
   "metadata": {},
   "outputs": [],
   "source": []
  },
  {
   "cell_type": "markdown",
   "id": "4769738b",
   "metadata": {},
   "source": [
    "__Задача 1__\n",
    "\n",
    "Даны значения зарплат из выборки выпускников: \n",
    "```\n",
    "100, 80, 75, 77, 89, 33, 45, 25, 65, 17, 30, 230, 24, 57, 55, 70, 75, 65, 84, 90, 150\n",
    "```\n",
    "Используя только встроенные питоновские функции и структуры данных (т.е. без библиотек `numpy`, `pandas` и др.), посчитайте (несмещённое) среднее квадратичное отклонение для данной выборки.\n",
    "<hr>"
   ]
  },
  {
   "cell_type": "markdown",
   "id": "863502a0",
   "metadata": {},
   "source": [
    "<center>Решение: <br>\n",
    "\n",
    "Среднее квадратическое отклонение:\n",
    "$$\\sigma_X = \\sqrt{\\dfrac{1}{n - 1} \\displaystyle\\sum_{i = 1}^n \\left( x_i - \\overline{X} \\right)^2}$$"
   ]
  },
  {
   "cell_type": "code",
   "execution_count": 14,
   "id": "fa9b2932",
   "metadata": {},
   "outputs": [],
   "source": [
    "n_array = [100, 80, 75, 77, 89, 33, 45, 25, 65, 17, 30, 230, 24, 57, 55, 70, 75, 65, 84, 90, 150]"
   ]
  },
  {
   "cell_type": "code",
   "execution_count": 22,
   "id": "ab2a9c95",
   "metadata": {},
   "outputs": [
    {
     "name": "stdout",
     "output_type": "stream",
     "text": [
      "Выборочное среднее X: 73.14285714285714\n"
     ]
    }
   ],
   "source": [
    "# Выборочное среднее X:\n",
    "X = sum(n_array) / len(n_array)\n",
    "print(f'Выборочное среднее X: {X}')"
   ]
  },
  {
   "cell_type": "code",
   "execution_count": 20,
   "id": "a93dc0fe",
   "metadata": {},
   "outputs": [],
   "source": [
    "# Выборочная дисперсия D:\n",
    "def get_variance(array):\n",
    "    sum_ = 0\n",
    "    X_ = sum(array) / len(array)\n",
    "    for x in array:\n",
    "        sum_ += (x - X_)**2\n",
    "    variance = sum_ / (len(array) - 1)\n",
    "    return variance"
   ]
  },
  {
   "cell_type": "code",
   "execution_count": 23,
   "id": "db3b5835",
   "metadata": {},
   "outputs": [
    {
     "name": "stdout",
     "output_type": "stream",
     "text": [
      "Выборочная дисперсия D: 2241.8285714285716\n"
     ]
    }
   ],
   "source": [
    "print(f'Выборочная дисперсия D: {get_variance(n_array)}')"
   ]
  },
  {
   "cell_type": "code",
   "execution_count": 24,
   "id": "0cc364e2",
   "metadata": {},
   "outputs": [
    {
     "name": "stdout",
     "output_type": "stream",
     "text": [
      "Среднее квадратическое отклонение: 47.34795213553139\n"
     ]
    }
   ],
   "source": [
    "print(f'Среднее квадратическое отклонение: {get_variance(n_array)**0.5}')"
   ]
  },
  {
   "cell_type": "code",
   "execution_count": 32,
   "id": "d5981dd3",
   "metadata": {},
   "outputs": [
    {
     "name": "stdout",
     "output_type": "stream",
     "text": [
      "Выборочное среднее X: 73.14285714285714\n",
      "Выборочная дисперсия D: 2241.828571428571\n",
      "Среднее квадратическое отклонение: 47.347952135531386\n"
     ]
    }
   ],
   "source": [
    "# Проверим средствами numpy\n",
    "import numpy as np\n",
    "print(f'Выборочное среднее X: {np.mean(n_array)}')\n",
    "print(f'Выборочная дисперсия D: {np.var(n_array, ddof=1)}')\n",
    "print(f'Среднее квадратическое отклонение: {(np.std(n_array, ddof=1))}')"
   ]
  },
  {
   "cell_type": "markdown",
   "id": "d5dd64f4",
   "metadata": {},
   "source": [
    "<hr>"
   ]
  },
  {
   "cell_type": "markdown",
   "id": "bae7120a",
   "metadata": {},
   "source": [
    "__Задача 2__\n",
    "\n",
    "Найдите число выбросов в выборке из задачи 1. Для определения выбросов используйте методику как при построении \"усов\" в `boxplot`, однако, как и в задаче 1, пользоваться можно только встроенными функциями и структурами данных.\n",
    "\n",
    "\n",
    "<hr>"
   ]
  },
  {
   "attachments": {},
   "cell_type": "markdown",
   "id": "99b2037c",
   "metadata": {},
   "source": [
    "<center>Решение: <br>\n",
    "\n",
    "\"Как при построении усов\" - стало быть надо посчитать количество элементов \"выпавших\" за пределы диапазона \n",
    "    \n",
    "    \n",
    "$$\\left[ Q_1 - 1.5 \\times IQR, \\: Q_3 + 1.5 \\times IQR \\right],$$\n",
    "    \n",
    "\n",
    "    \n",
    "где  $Q_1  Q_3$ — первый и третий квантиль.<br>\n",
    "    $IQR$ — интерквартильное расстояние."
   ]
  },
  {
   "cell_type": "code",
   "execution_count": 34,
   "id": "611a8c71",
   "metadata": {},
   "outputs": [],
   "source": [
    "def quantil(l, number):\n",
    "    ''' Расчет квантиля'''\n",
    "    \n",
    "    l = sorted(l)\n",
    "    n = len(l)\n",
    "    \n",
    "    n_left_elements = int(n * number)\n",
    "    n_right_elements = int(n * (1 - number))\n",
    "    \n",
    "    print(n, n_left_elements, n_right_elements)\n",
    "    \n",
    "    if n_left_elements + n_right_elements == n:\n",
    "        return (l[n_left_elements - 1] + l[n_left_elements]) / 2\n",
    "    \n",
    "    else:\n",
    "        assert n_left_elements + n_right_elements == n - 1\n",
    "        \n",
    "        return l[n_left_elements]\n"
   ]
  },
  {
   "cell_type": "code",
   "execution_count": 35,
   "id": "d565a368",
   "metadata": {},
   "outputs": [],
   "source": [
    "n_array = [100, 80, 75, 77, 89, 33, 45, 25, 65, 17, 30, 230, 24, 57, 55, 70, 75, 65, 84, 90, 150]"
   ]
  },
  {
   "cell_type": "code",
   "execution_count": 41,
   "id": "8cb4d664",
   "metadata": {},
   "outputs": [
    {
     "name": "stdout",
     "output_type": "stream",
     "text": [
      "21 5 15\n",
      "45\n"
     ]
    }
   ],
   "source": [
    "# Первый квартиль — это квантиль 0.25 :\n",
    "Q_1 = quantil(n_array, 0.25)\n",
    "print(Q_1)"
   ]
  },
  {
   "cell_type": "code",
   "execution_count": 40,
   "id": "222640dd",
   "metadata": {},
   "outputs": [
    {
     "name": "stdout",
     "output_type": "stream",
     "text": [
      "21 15 5\n",
      "84\n"
     ]
    }
   ],
   "source": [
    "# Третий квартиль — это квантиль 0.75 :\n",
    "Q_3 = quantil(n_array, 0.75)\n",
    "print(Q_3)"
   ]
  },
  {
   "cell_type": "code",
   "execution_count": 45,
   "id": "75ff461a",
   "metadata": {},
   "outputs": [
    {
     "data": {
      "text/plain": [
       "39"
      ]
     },
     "execution_count": 45,
     "metadata": {},
     "output_type": "execute_result"
    }
   ],
   "source": [
    "# Интерквартильное расстояние:\n",
    "IQD = Q_3 - Q_1\n",
    "IQD"
   ]
  },
  {
   "cell_type": "code",
   "execution_count": 50,
   "id": "8a65e6f2",
   "metadata": {},
   "outputs": [
    {
     "name": "stdout",
     "output_type": "stream",
     "text": [
      "-13.5\n",
      "142.5\n"
     ]
    }
   ],
   "source": [
    "# Границы интервала:\n",
    "left_border = Q_1 - 1.5 * IQD\n",
    "right_border = Q_3 + 1.5 * IQD\n",
    "print(left_border)\n",
    "print(right_border)"
   ]
  },
  {
   "cell_type": "code",
   "execution_count": 68,
   "id": "a31ea4ca",
   "metadata": {},
   "outputs": [
    {
     "name": "stdout",
     "output_type": "stream",
     "text": [
      "ОТВЕТ\n",
      "Число выбросов в выборке равно 2\n",
      "\"Вывалились\" значения [230, 150]\n"
     ]
    }
   ],
   "source": [
    "# Найдем количество элементов из n_array, которые \"вывалились\" за эти границы:\n",
    "out_range = [x for x in n_array if x <= left_border or x >= right_border]\n",
    "\n",
    "print(f'ОТВЕТ')\n",
    "print(f'Число выбросов в выборке равно {len(out_range)}')\n",
    "print(f'\"Вывалились\" значения {out_range}')\n",
    "\n"
   ]
  },
  {
   "cell_type": "code",
   "execution_count": 57,
   "id": "b814d7b6",
   "metadata": {},
   "outputs": [],
   "source": [
    "import seaborn as sb"
   ]
  },
  {
   "cell_type": "code",
   "execution_count": 58,
   "id": "96331bb8",
   "metadata": {},
   "outputs": [
    {
     "data": {
      "text/plain": [
       "<AxesSubplot:>"
      ]
     },
     "execution_count": 58,
     "metadata": {},
     "output_type": "execute_result"
    },
    {
     "data": {
      "image/png": "[encoded data removed]",
      "text/plain": [
       "<Figure size 432x288 with 1 Axes>"
      ]
     },
     "metadata": {
      "needs_background": "light"
     },
     "output_type": "display_data"
    }
   ],
   "source": [
    "sb.boxplot(data=n_array)"
   ]
  },
  {
   "cell_type": "markdown",
   "id": "2f8421ba",
   "metadata": {},
   "source": [
    "<hr>"
   ]
  },
  {
   "cell_type": "markdown",
   "id": "d9840828",
   "metadata": {},
   "source": [
    "__Задача 3__\n",
    "\n",
    "В университет на факультет A поступило 100 человек, на факультет B - 90 человек и на факультет C - 45 человек. Вероятность того, что студент с факультета A сдаст первую сессию, равна 0.6. Для студента с факультета B эта вероятность равна 0.7, а для студента с факультета C - 0.8. Случайным образом выбирается студент, сдавший первую сессию. Какое событие наиболее вероятно:\n",
    "1. студент учится на факультете A,\n",
    "2. студент учится на факультете B,\n",
    "3. студент учится на факультете C?\n",
    "\n",
    "_Замечание_: да, эта задача не на тему статистики, но тема важная, и её стоит иногда освежать в памяти.\n",
    "<hr>"
   ]
  },
  {
   "cell_type": "markdown",
   "id": "a218f4d1",
   "metadata": {},
   "source": [
    "<center>Решение: <br>\n",
    "\n",
    "Это задача как раз для формулы Байеса:\n",
    "    \n",
    "$$P(F | H) = \\dfrac{P(H | F) \\cdot P(F)}{P(H)}$$\n",
    "    \n",
    "События $F$ - чел был с факультета (А,В,С)<br>\n",
    "Гипотеза: $H$ - чел сдал<br>\n",
    "    \n",
    "По условию у нас уже есть:<br>\n",
    "$P(H | A) = 0.6$   \n",
    "$P(H | B) = 0.7$   \n",
    "$P(H | C) = 0.8$   \n"
   ]
  },
  {
   "cell_type": "code",
   "execution_count": 71,
   "id": "42ab21f4",
   "metadata": {},
   "outputs": [],
   "source": [
    "P_HA = 0.6\n",
    "P_HB = 0.7\n",
    "P_HC = 0.8"
   ]
  },
  {
   "cell_type": "code",
   "execution_count": 72,
   "id": "68c82ff5",
   "metadata": {},
   "outputs": [],
   "source": [
    "# НАйдем 𝑃(𝐹):\n",
    "P_A = 100 / (100 + 90 + 45)\n",
    "P_B = 90 / (100 + 90 + 45)\n",
    "P_C = 45 / (100 + 90 + 45)"
   ]
  },
  {
   "cell_type": "markdown",
   "id": "eb53a89b",
   "metadata": {},
   "source": [
    "𝑃(𝐻) найдем по формуле полной вероятности:\n",
    "$$P(H) = P(H | A) \\cdot P(A) + P(H | B) \\cdot P(B) + P(H | C) \\cdot P(C)$$  "
   ]
  },
  {
   "cell_type": "code",
   "execution_count": 75,
   "id": "d7bc04bd",
   "metadata": {},
   "outputs": [
    {
     "data": {
      "text/plain": [
       "0.676595744680851"
      ]
     },
     "execution_count": 75,
     "metadata": {},
     "output_type": "execute_result"
    }
   ],
   "source": [
    "P_H = P_HA * P_A + P_HB * P_B + P_HC * P_C\n",
    "P_H"
   ]
  },
  {
   "cell_type": "code",
   "execution_count": 77,
   "id": "d6da1cad",
   "metadata": {},
   "outputs": [
    {
     "data": {
      "text/plain": [
       "0.3773584905660377"
      ]
     },
     "execution_count": 77,
     "metadata": {},
     "output_type": "execute_result"
    }
   ],
   "source": [
    "# Для факультета А формулы Байеса:\n",
    "P_ah = P_HA * P_A / P_H\n",
    "P_ah"
   ]
  },
  {
   "cell_type": "code",
   "execution_count": 79,
   "id": "e3909ca3",
   "metadata": {},
   "outputs": [
    {
     "data": {
      "text/plain": [
       "0.39622641509433965"
      ]
     },
     "execution_count": 79,
     "metadata": {},
     "output_type": "execute_result"
    }
   ],
   "source": [
    "# Для факультета B формулы Байеса:\n",
    "P_bh = P_HB * P_B / P_H\n",
    "P_bh"
   ]
  },
  {
   "cell_type": "code",
   "execution_count": 80,
   "id": "e7fe0caf",
   "metadata": {},
   "outputs": [
    {
     "data": {
      "text/plain": [
       "0.22641509433962265"
      ]
     },
     "execution_count": 80,
     "metadata": {},
     "output_type": "execute_result"
    }
   ],
   "source": [
    "# Для факультета А формулы Байеса:\n",
    "P_ch = P_HC * P_C / P_H\n",
    "P_ch"
   ]
  },
  {
   "cell_type": "markdown",
   "id": "4f971e67",
   "metadata": {},
   "source": [
    "### ОТВЕТ:наиболее вероятно, что студент учится на факультете B\n",
    "    "
   ]
  },
  {
   "cell_type": "code",
   "execution_count": null,
   "id": "31eddac5",
   "metadata": {},
   "outputs": [],
   "source": []
  }
 ],
 "metadata": {
  "kernelspec": {
   "display_name": "Python 3 (ipykernel)",
   "language": "python",
   "name": "python3"
  },
  "language_info": {
   "codemirror_mode": {
    "name": "ipython",
    "version": 3
   },
   "file_extension": ".py",
   "mimetype": "text/x-python",
   "name": "python",
   "nbconvert_exporter": "python",
   "pygments_lexer": "ipython3",
   "version": "3.9.4"
  }
 },
 "nbformat": 4,
 "nbformat_minor": 5
}
