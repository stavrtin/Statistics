{
 "cells": [
  {
   "cell_type": "markdown",
   "id": "c1d8ac05",
   "metadata": {},
   "source": [
    "### hw  \n",
    "\n",
    "### Проверка статистических гипотез. P-значения. Доверительные интервалы"
   ]
  },
  {
   "cell_type": "markdown",
   "id": "1c26b977",
   "metadata": {},
   "source": [
    "__Задача 1__\n",
    "\n",
    "Известно, что генеральная совокупность распределена нормально с известным средним квадратическим отклонением 16. Найти ширину доверительного интервала для оценки математического ожидания `mu` с надёжностью 0.95, если выборочное среднее равно 80, а объём выборки равен 256.\n",
    "<hr>"
   ]
  },
  {
   "attachments": {},
   "cell_type": "markdown",
   "id": "d595442a",
   "metadata": {},
   "source": [
    "<center>Решение: <br>\n",
    "\n",
    "Доверительные интервалы используют ту же математическую базу, что и статистические тесты.\n",
    "\n",
    "У нас дана выборка $X$ из __нормально распределённой__ случайной величины с __известной дисперсией__ $\\sigma ^ 2$, и требуется построить доверительный интервал для математического ожидания $\\mu$ с доверительной вероятностью $p$. Мы знаем, что в этом случае статистика\n",
    "$$Z = \\dfrac{\\overline{X} - \\mu}{\\sigma / \\sqrt{n}}$$\n",
    "имеет стандартное нормальное распределение. \n",
    "\n",
    "Обозначим $\\alpha = 1 - p$. Можно убедиться в том, что\n",
    "$$P \\left( t_{\\alpha / 2} \\leq Z \\leq t_{1 - \\alpha / 2} \\right) = p,$$\n",
    "где $t_{x}$ — квантиль порядка $x$ для стандартного нормального распределения. Подставляя сюда $Z$, получаем\n",
    "$$P \\left( t_{\\alpha / 2} \\leq \\dfrac{\\overline{X} - \\mu}{\\sigma / \\sqrt{n}} \\leq t_{1 - \\alpha / 2} \\right) = p$$\n",
    "$$P \\left( t_{\\alpha / 2} \\cdot \\dfrac{\\sigma}{\\sqrt{n}} \\leq \\overline{X} - \\mu \\leq t_{1 - \\alpha / 2} \\cdot \\dfrac{\\sigma}{\\sqrt{n}} \\right) = p$$\n",
    "\n",
    "\n",
    "<center>\n",
    "    <div style=\"width: 350px;border:1px solid black;\">\n",
    "        $P \\left( \\overline{X} + t_{\\alpha / 2} \\cdot \\dfrac{\\sigma}{\\sqrt{n}} \\leq \\mu \\leq \\overline{X} + t_{1 - \\alpha / 2} \\cdot \\dfrac{\\sigma}{\\sqrt{n}} \\right) = p$\n",
    "    </div>\n",
    "</center>\n",
    "\n",
    "    \n",
    "\n",
    "$\\sigma = 16$ - средне-квадратическое отклонение<br>\n",
    "$n = 256$ - объем выборки<br>\n",
    "$\\overline{X} = 80$ - выборочное среднее<br>\n",
    "$p = 0.95$ - надежность<br>"
   ]
  },
  {
   "cell_type": "code",
   "execution_count": 6,
   "id": "b28c4008",
   "metadata": {},
   "outputs": [],
   "source": [
    "import numpy as np\n",
    "import scipy.stats as sts"
   ]
  },
  {
   "cell_type": "code",
   "execution_count": 7,
   "id": "8c62892b",
   "metadata": {},
   "outputs": [],
   "source": [
    "X_ = 80 \n",
    "mu = 1\n",
    "sigm = 16 \n",
    "n = 256"
   ]
  },
  {
   "cell_type": "code",
   "execution_count": 8,
   "id": "6506d937",
   "metadata": {},
   "outputs": [
    {
     "data": {
      "text/plain": [
       "(-1.9693105698491928, 1.9693105698491928)"
      ]
     },
     "execution_count": 8,
     "metadata": {},
     "output_type": "execute_result"
    }
   ],
   "source": [
    "# Найдем квантили t1 t2\n",
    "p = 0.95\n",
    "alpha = 1 - p\n",
    "\n",
    "t1 = sts.t.ppf(alpha / 2, df=n - 1)\n",
    "t2 = sts.t.ppf(1 - alpha / 2, df=n - 1)\n",
    "\n",
    "t1, t2"
   ]
  },
  {
   "cell_type": "code",
   "execution_count": 11,
   "id": "ce2c8de8",
   "metadata": {},
   "outputs": [
    {
     "data": {
      "text/plain": [
       "(78.0306894301508, 81.9693105698492)"
      ]
     },
     "execution_count": 11,
     "metadata": {},
     "output_type": "execute_result"
    }
   ],
   "source": [
    "# Доверительный интервал\n",
    "(X_ + t1 * sigm / np.sqrt(n), X_ + t2 * sigm / np.sqrt(n))"
   ]
  },
  {
   "cell_type": "code",
   "execution_count": 15,
   "id": "d0c65923",
   "metadata": {},
   "outputs": [
    {
     "data": {
      "text/plain": [
       "3.938621139698398"
      ]
     },
     "execution_count": 15,
     "metadata": {},
     "output_type": "execute_result"
    }
   ],
   "source": [
    "# Ширина доверительного интервала:\n",
    "t = ( X_ + t2 * sigm / np.sqrt(n)) - (X_ + t1 * sigm / np.sqrt(n))\n",
    "t"
   ]
  },
  {
   "cell_type": "markdown",
   "id": "af04cf14",
   "metadata": {},
   "source": [
    "<hr>"
   ]
  },
  {
   "cell_type": "markdown",
   "id": "a7303050",
   "metadata": {},
   "source": [
    "__Задача 2__\n",
    "\n",
    "Продавец утверждает, что средний вес пачки печенья составляет 200 г. Из партии извлечена выборка из 10 пачек. Вес каждой пачки составляет:\n",
    "```\n",
    "202, 203, 199, 197, 195, 201, 200, 204, 194, 190\n",
    "```\n",
    "Известно, что их веса распределены нормально. Верно ли утверждение продавца, если учитывать, что уровень значимости равен 1%? Найдите P-значение для данного теста и укажите его в качестве ответа.\n",
    "<hr>"
   ]
  },
  {
   "cell_type": "markdown",
   "id": "87ba5e28",
   "metadata": {},
   "source": [
    "<center>Решение: <br>\n",
    "    \n",
    "    \n",
    "x_array = [202, 203, 199, 197, 195, 201, 200, 204, 194, 190]<br>\n",
    "$n = 10$ - объем выборки<br>\n",
    "$\\mu = 200$<br>\n",
    "$\\alpha = 0.01$ - уровень значимости<br>"
   ]
  },
  {
   "cell_type": "code",
   "execution_count": 54,
   "id": "17b12070",
   "metadata": {},
   "outputs": [],
   "source": [
    "x_array = [202, 203, 199, 197, 195, 201, 200, 204, 194, 190]"
   ]
  },
  {
   "cell_type": "code",
   "execution_count": 55,
   "id": "29deeffa",
   "metadata": {},
   "outputs": [
    {
     "data": {
      "text/plain": [
       "Ttest_1sampResult(statistic=140.23914149310346, pvalue=2.4223382199300387e-16)"
      ]
     },
     "execution_count": 55,
     "metadata": {},
     "output_type": "execute_result"
    }
   ],
   "source": [
    "sts.ttest_1samp(x_array, popmean=1)"
   ]
  },
  {
   "cell_type": "code",
   "execution_count": null,
   "id": "4e80fc6c",
   "metadata": {},
   "outputs": [],
   "source": []
  },
  {
   "cell_type": "markdown",
   "id": "cd1af9b1",
   "metadata": {},
   "source": [
    "<hr>"
   ]
  },
  {
   "cell_type": "markdown",
   "id": "18acf842",
   "metadata": {},
   "source": [
    "__Задача 3__\n",
    "\n",
    "Дана выборка диаметров подшипников из примера 1 с занятия 5:\n",
    "```\n",
    "samples = [0.6603, 0.9466, 0.5968, 1.3792, 1.5481, 0.7515, 1.0681, 1.1134,\n",
    "           1.2088, 1.701 , 1.0282, 1.3579, 1.0191, 1.1784, 1.1168, 1.1372,\n",
    "           0.7273, 1.3958, 0.8665, 1.5112, 1.161 , 1.0232, 1.0865, 1.02  ]\n",
    "```\n",
    "Предполагая, что диаметры подшипников распределены нормально, проверьте гипотезу о том, что дисперсия случайной величины равна `0.0625` при уровне значимости `alpha = 0.05`. Что для этого нужно знать:\n",
    "1. Альтернативная гипотеза двухсторонняя.\n",
    "2. Статистика для теста: `H = (n - 1) * sample_variance / variance`, где `n` - число элементов в выборке, `sample_variance` - несмещённая оценка дисперсии, `variance` - утверждаемая нулевой гипотезой дисперсия.\n",
    "3. Эта статистика в предположении верности нулевой гипотезы имеет распределение хи-квадрат с параметром `df = n - 1`. Её квантили можно найти с помощью функции `scipy.stats.chi2.ppf`.\n",
    "\n",
    "В качестве ответа запишите 1, если нулевая гипотеза верна, и 0 иначе."
   ]
  },
  {
   "cell_type": "code",
   "execution_count": 56,
   "id": "7de8ff74",
   "metadata": {},
   "outputs": [],
   "source": [
    "import numpy as np\n",
    "import scipy.stats as sts"
   ]
  },
  {
   "cell_type": "code",
   "execution_count": 57,
   "id": "4e14cf59",
   "metadata": {},
   "outputs": [],
   "source": [
    "samples = [0.6603, 0.9466, 0.5968, 1.3792, 1.5481, 0.7515, 1.0681, 1.1134,\n",
    "           1.2088, 1.701 , 1.0282, 1.3579, 1.0191, 1.1784, 1.1168, 1.1372,\n",
    "           0.7273, 1.3958, 0.8665, 1.5112, 1.161 , 1.0232, 1.0865, 1.02  ]"
   ]
  },
  {
   "cell_type": "code",
   "execution_count": 58,
   "id": "c4eee0c3",
   "metadata": {},
   "outputs": [
    {
     "data": {
      "text/plain": [
       "1.1084541666666665"
      ]
     },
     "execution_count": 58,
     "metadata": {},
     "output_type": "execute_result"
    }
   ],
   "source": [
    "np.mean(samples)"
   ]
  },
  {
   "cell_type": "code",
   "execution_count": 68,
   "id": "937420bb",
   "metadata": {},
   "outputs": [
    {
     "data": {
      "text/plain": [
       "1.4375"
      ]
     },
     "execution_count": 68,
     "metadata": {},
     "output_type": "execute_result"
    }
   ],
   "source": [
    "n = np.shape(samples)[0]\n",
    "sample_variance = 0.0625**2\n",
    "variance = 0.0625\n",
    "\n",
    "H = (n - 1) * sample_variance / variance\n",
    "H"
   ]
  },
  {
   "cell_type": "code",
   "execution_count": 70,
   "id": "f738be01",
   "metadata": {},
   "outputs": [
    {
     "data": {
      "text/plain": [
       "(11.688551922452438, 38.0756272503558)"
      ]
     },
     "execution_count": 70,
     "metadata": {},
     "output_type": "execute_result"
    }
   ],
   "source": [
    "# Найдем квантили t1 t2\n",
    "alpha = 0.05\n",
    "\n",
    "t1 = sts.chi2.ppf(alpha / 2, df=n - 1)\n",
    "t2 = sts.chi2.ppf(1 - alpha / 2, df=n - 1)\n",
    "\n",
    "t1, t2"
   ]
  },
  {
   "cell_type": "code",
   "execution_count": null,
   "id": "07176833",
   "metadata": {},
   "outputs": [],
   "source": []
  },
  {
   "cell_type": "code",
   "execution_count": null,
   "id": "839271ca",
   "metadata": {},
   "outputs": [],
   "source": []
  }
 ],
 "metadata": {
  "kernelspec": {
   "display_name": "Python 3 (ipykernel)",
   "language": "python",
   "name": "python3"
  },
  "language_info": {
   "codemirror_mode": {
    "name": "ipython",
    "version": 3
   },
   "file_extension": ".py",
   "mimetype": "text/x-python",
   "name": "python",
   "nbconvert_exporter": "python",
   "pygments_lexer": "ipython3",
   "version": "3.9.4"
  }
 },
 "nbformat": 4,
 "nbformat_minor": 5
}
