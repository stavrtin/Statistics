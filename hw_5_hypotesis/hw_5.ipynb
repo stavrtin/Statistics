{
 "cells": [
  {
   "cell_type": "markdown",
   "id": "c1d8ac05",
   "metadata": {},
   "source": [
    "### hw  \n",
    "\n",
    "### Проверка статистических гипотез. P-значения. Доверительные интервалы"
   ]
  },
  {
   "cell_type": "markdown",
   "id": "1c26b977",
   "metadata": {},
   "source": [
    "__Задача 1__\n",
    "\n",
    "Известно, что генеральная совокупность распределена нормально с известным средним квадратическим отклонением 16. Найти ширину доверительного интервала для оценки математического ожидания `mu` с надёжностью 0.95, если выборочное среднее равно 80, а объём выборки равен 256.\n",
    "<hr>"
   ]
  },
  {
   "attachments": {},
   "cell_type": "markdown",
   "id": "d595442a",
   "metadata": {},
   "source": [
    "<center>Решение: <br>\n",
    "\n",
    "Доверительные интервалы используют ту же математическую базу, что и статистические тесты.\n",
    "\n",
    "У нас дана выборка $X$ из __нормально распределённой__ случайной величины с __известной дисперсией__ $\\sigma ^ 2$, и требуется построить доверительный интервал для математического ожидания $\\mu$ с доверительной вероятностью $p$. Мы знаем, что в этом случае статистика\n",
    "$$Z = \\dfrac{\\overline{X} - \\mu}{\\sigma / \\sqrt{n}}$$\n",
    "имеет стандартное нормальное распределение. \n",
    "\n",
    "Обозначим $\\alpha = 1 - p$. Можно убедиться в том, что\n",
    "$$P \\left( t_{\\alpha / 2} \\leq Z \\leq t_{1 - \\alpha / 2} \\right) = p,$$\n",
    "где $t_{x}$ — квантиль порядка $x$ для стандартного нормального распределения. Подставляя сюда $Z$, получаем\n",
    "$$P \\left( t_{\\alpha / 2} \\leq \\dfrac{\\overline{X} - \\mu}{\\sigma / \\sqrt{n}} \\leq t_{1 - \\alpha / 2} \\right) = p$$\n",
    "$$P \\left( t_{\\alpha / 2} \\cdot \\dfrac{\\sigma}{\\sqrt{n}} \\leq \\overline{X} - \\mu \\leq t_{1 - \\alpha / 2} \\cdot \\dfrac{\\sigma}{\\sqrt{n}} \\right) = p$$\n",
    "\n",
    "\n",
    "<center>\n",
    "    <div style=\"width: 350px;border:1px solid black;\">\n",
    "        $P \\left( \\overline{X} + t_{\\alpha / 2} \\cdot \\dfrac{\\sigma}{\\sqrt{n}} \\leq \\mu \\leq \\overline{X} + t_{1 - \\alpha / 2} \\cdot \\dfrac{\\sigma}{\\sqrt{n}} \\right) = p$\n",
    "    </div>\n",
    "</center>\n",
    "\n",
    "    \n",
    "\n",
    "$\\sigma = 16$ - средне-квадратическое отклонение<br>\n",
    "$n = 256$ - объем выборки<br>\n",
    "$\\overline{X} = 80$ - выборочное среднее<br>\n",
    "$p = 0.95$ - надежность<br>"
   ]
  },
  {
   "cell_type": "code",
   "execution_count": 6,
   "id": "a5d99509",
   "metadata": {},
   "outputs": [],
   "source": [
    "import numpy as np\n",
    "import scipy.stats as sts"
   ]
  },
  {
   "cell_type": "code",
   "execution_count": 7,
   "id": "c15dd7a4",
   "metadata": {},
   "outputs": [],
   "source": [
    "X_ = 80 \n",
    "mu = 1\n",
    "sigm = 16 \n",
    "n = 256"
   ]
  },
  {
   "cell_type": "code",
   "execution_count": 8,
   "id": "077d857f",
   "metadata": {},
   "outputs": [
    {
     "data": {
      "text/plain": [
       "(-1.9693105698491928, 1.9693105698491928)"
      ]
     },
     "execution_count": 8,
     "metadata": {},
     "output_type": "execute_result"
    }
   ],
   "source": [
    "# Найдем квантили t1 t2\n",
    "p = 0.95\n",
    "alpha = 1 - p\n",
    "\n",
    "t1 = sts.t.ppf(alpha / 2, df=n - 1)\n",
    "t2 = sts.t.ppf(1 - alpha / 2, df=n - 1)\n",
    "\n",
    "t1, t2"
   ]
  },
  {
   "cell_type": "code",
   "execution_count": 11,
   "id": "a06c5bf6",
   "metadata": {},
   "outputs": [
    {
     "data": {
      "text/plain": [
       "(78.0306894301508, 81.9693105698492)"
      ]
     },
     "execution_count": 11,
     "metadata": {},
     "output_type": "execute_result"
    }
   ],
   "source": [
    "# Доверительный интервал\n",
    "(X_ + t1 * sigm / np.sqrt(n), X_ + t2 * sigm / np.sqrt(n))"
   ]
  },
  {
   "cell_type": "code",
   "execution_count": 15,
   "id": "c12a4e4f",
   "metadata": {},
   "outputs": [
    {
     "data": {
      "text/plain": [
       "3.938621139698398"
      ]
     },
     "execution_count": 15,
     "metadata": {},
     "output_type": "execute_result"
    }
   ],
   "source": [
    "# Ширина доверительного интервала:\n",
    "t = ( X_ + t2 * sigm / np.sqrt(n)) - (X_ + t1 * sigm / np.sqrt(n))\n",
    "t"
   ]
  },
  {
   "cell_type": "markdown",
   "id": "49d349eb",
   "metadata": {},
   "source": [
    "<hr>"
   ]
  },
  {
   "cell_type": "markdown",
   "id": "ba7044be",
   "metadata": {},
   "source": [
    "__Задача 2__\n",
    "\n",
    "Продавец утверждает, что средний вес пачки печенья составляет 200 г. Из партии извлечена выборка из 10 пачек. Вес каждой пачки составляет:\n",
    "```\n",
    "202, 203, 199, 197, 195, 201, 200, 204, 194, 190\n",
    "```\n",
    "Известно, что их веса распределены нормально. Верно ли утверждение продавца, если учитывать, что уровень значимости равен 1%? Найдите P-значение для данного теста и укажите его в качестве ответа.\n",
    "<hr>"
   ]
  },
  {
   "cell_type": "markdown",
   "id": "283b03cd",
   "metadata": {},
   "source": [
    "<center>Решение: <br>\n",
    "    \n",
    "    \n",
    "x_array = [202, 203, 199, 197, 195, 201, 200, 204, 194, 190]<br>\n",
    "$n = 10$ - объем выборки<br>\n",
    "$\\mu = 200$<br>\n",
    "$\\alpha = 0.01$ - уровень значимости<br>"
   ]
  },
  {
   "cell_type": "code",
   "execution_count": 79,
   "id": "eb908b4a",
   "metadata": {},
   "outputs": [],
   "source": [
    "x_array = np.array([202, 203, 199, 197, 195, 201, 200, 204, 194, 190])\n",
    "X = 200\n",
    "n = x_array.shape[0]\n",
    "p = 0.01\n",
    "alpha = 1 - p"
   ]
  },
  {
   "cell_type": "code",
   "execution_count": 83,
   "id": "779b376e",
   "metadata": {},
   "outputs": [
    {
     "data": {
      "text/plain": [
       "(4.453463071962462, 198.5)"
      ]
     },
     "execution_count": 83,
     "metadata": {},
     "output_type": "execute_result"
    }
   ],
   "source": [
    "sigma = np.std(x_array, ddof=1)\n",
    "Xmat = np.mean(x_array)\n",
    "sigma, Xmat"
   ]
  },
  {
   "cell_type": "code",
   "execution_count": 84,
   "id": "f920183e",
   "metadata": {},
   "outputs": [
    {
     "data": {
      "text/plain": [
       "-1.0651074037450896"
      ]
     },
     "execution_count": 84,
     "metadata": {},
     "output_type": "execute_result"
    }
   ],
   "source": [
    "Zn = (Xmat - X) / (sigma / np.sqrt(n))\n",
    "Zn"
   ]
  },
  {
   "cell_type": "code",
   "execution_count": 85,
   "id": "f4cd1b92",
   "metadata": {},
   "outputs": [
    {
     "data": {
      "text/plain": [
       "0.3145666035247285"
      ]
     },
     "execution_count": 85,
     "metadata": {},
     "output_type": "execute_result"
    }
   ],
   "source": [
    "# Z в области гипотезы H0, следовательно H0 верна на уровне значимости 1%\n",
    "p_left = sts.t.cdf(Zn, df=n - 1)\n",
    "p_right = 1 - sts.t.cdf(Zn, df=n - 1)\n",
    "\n",
    "pvalue = 2 * min(p_left, p_right)\n",
    "\n",
    "pvalue"
   ]
  },
  {
   "cell_type": "markdown",
   "id": "d0af2e83",
   "metadata": {},
   "source": [
    "<hr>"
   ]
  },
  {
   "cell_type": "markdown",
   "id": "57494665",
   "metadata": {},
   "source": [
    "__Задача 3__\n",
    "\n",
    "Дана выборка диаметров подшипников из примера 1 с занятия 5:\n",
    "```\n",
    "samples = [0.6603, 0.9466, 0.5968, 1.3792, 1.5481, 0.7515, 1.0681, 1.1134,\n",
    "           1.2088, 1.701 , 1.0282, 1.3579, 1.0191, 1.1784, 1.1168, 1.1372,\n",
    "           0.7273, 1.3958, 0.8665, 1.5112, 1.161 , 1.0232, 1.0865, 1.02  ]\n",
    "```\n",
    "Предполагая, что диаметры подшипников распределены нормально, проверьте гипотезу о том, что дисперсия случайной величины равна `0.0625` при уровне значимости `alpha = 0.05`. Что для этого нужно знать:\n",
    "1. Альтернативная гипотеза двухсторонняя.\n",
    "2. Статистика для теста: `H = (n - 1) * sample_variance / variance`, где `n` - число элементов в выборке, `sample_variance` - несмещённая оценка дисперсии, `variance` - утверждаемая нулевой гипотезой дисперсия.\n",
    "3. Эта статистика в предположении верности нулевой гипотезы имеет распределение хи-квадрат с параметром `df = n - 1`. Её квантили можно найти с помощью функции `scipy.stats.chi2.ppf`.\n",
    "\n",
    "В качестве ответа запишите 1, если нулевая гипотеза верна, и 0 иначе."
   ]
  },
  {
   "cell_type": "code",
   "execution_count": 75,
   "id": "d682d4ca",
   "metadata": {},
   "outputs": [],
   "source": [
    "import numpy as np\n",
    "import scipy.stats as sts"
   ]
  },
  {
   "cell_type": "code",
   "execution_count": 57,
   "id": "a82cfdb4",
   "metadata": {},
   "outputs": [],
   "source": [
    "samples = [0.6603, 0.9466, 0.5968, 1.3792, 1.5481, 0.7515, 1.0681, 1.1134,\n",
    "           1.2088, 1.701 , 1.0282, 1.3579, 1.0191, 1.1784, 1.1168, 1.1372,\n",
    "           0.7273, 1.3958, 0.8665, 1.5112, 1.161 , 1.0232, 1.0865, 1.02  ]"
   ]
  },
  {
   "cell_type": "code",
   "execution_count": 87,
   "id": "10398342",
   "metadata": {},
   "outputs": [
    {
     "data": {
      "text/plain": [
       "1.1084541666666665"
      ]
     },
     "execution_count": 87,
     "metadata": {},
     "output_type": "execute_result"
    }
   ],
   "source": [
    "np.mean(samples)"
   ]
  },
  {
   "cell_type": "code",
   "execution_count": 88,
   "id": "c29d8195",
   "metadata": {},
   "outputs": [
    {
     "data": {
      "text/plain": [
       "(11.688551922452438, 38.0756272503558)"
      ]
     },
     "execution_count": 88,
     "metadata": {},
     "output_type": "execute_result"
    }
   ],
   "source": [
    "samples = np.array([0.6603, 0.9466, 0.5968, 1.3792, 1.5481, 0.7515, 1.0681, 1.1134,\n",
    "           1.2088, 1.701 , 1.0282, 1.3579, 1.0191, 1.1784, 1.1168, 1.1372,\n",
    "           0.7273, 1.3958, 0.8665, 1.5112, 1.161 , 1.0232, 1.0865, 1.02])\n",
    "alpha = 0.05\n",
    "n = samples.shape[0]\n",
    "D = 0.0625\n",
    "\n",
    "t1 = sts.chi2.ppf(alpha / 2, df=n - 1)\n",
    "t2 = sts.chi2.ppf(1 - alpha / 2, df=n - 1)\n",
    "t1, t2"
   ]
  },
  {
   "cell_type": "code",
   "execution_count": 70,
   "id": "49555482",
   "metadata": {},
   "outputs": [
    {
     "data": {
      "text/plain": [
       "(11.688551922452438, 38.0756272503558)"
      ]
     },
     "execution_count": 70,
     "metadata": {},
     "output_type": "execute_result"
    }
   ],
   "source": [
    "# Найдем квантили t1 t2\n",
    "alpha = 0.05\n",
    "\n",
    "t1 = sts.chi2.ppf(alpha / 2, df=n - 1)\n",
    "t2 = sts.chi2.ppf(1 - alpha / 2, df=n - 1)\n",
    "\n",
    "t1, t2"
   ]
  },
  {
   "cell_type": "markdown",
   "id": "4cb9f96c",
   "metadata": {},
   "source": [
    "Итак, критическая область:\n",
    "$$\\Omega_\\alpha = (-\\infty, 11.69) \\cup (38.08, \\infty)$$"
   ]
  },
  {
   "cell_type": "code",
   "execution_count": 91,
   "id": "8de9c9d8",
   "metadata": {},
   "outputs": [],
   "source": [
    "def statistic_3(samples):\n",
    "    return (n - 1)*(np.var(samples, ddof=1))/D"
   ]
  },
  {
   "cell_type": "code",
   "execution_count": 92,
   "id": "605827d1",
   "metadata": {},
   "outputs": [
    {
     "data": {
      "text/plain": [
       "28.720541753333343"
      ]
     },
     "execution_count": 92,
     "metadata": {},
     "output_type": "execute_result"
    }
   ],
   "source": [
    "statistic_3(samples)"
   ]
  },
  {
   "cell_type": "markdown",
   "id": "04135159",
   "metadata": {},
   "source": [
    "Значение статистики не попало в критическую область, значит, гипотеза остаётся в силе."
   ]
  },
  {
   "cell_type": "code",
   "execution_count": null,
   "id": "6c91e288",
   "metadata": {},
   "outputs": [],
   "source": []
  },
  {
   "cell_type": "code",
   "execution_count": null,
   "id": "4b35d7db",
   "metadata": {},
   "outputs": [],
   "source": []
  }
 ],
 "metadata": {
  "kernelspec": {
   "display_name": "Python 3 (ipykernel)",
   "language": "python",
   "name": "python3"
  },
  "language_info": {
   "codemirror_mode": {
    "name": "ipython",
    "version": 3
   },
   "file_extension": ".py",
   "mimetype": "text/x-python",
   "name": "python",
   "nbconvert_exporter": "python",
   "pygments_lexer": "ipython3",
   "version": "3.9.4"
  }
 },
 "nbformat": 4,
 "nbformat_minor": 5
}
