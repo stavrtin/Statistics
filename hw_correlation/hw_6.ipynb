{
 "cells": [
  {
   "cell_type": "markdown",
   "metadata": {
    "id": "pscUldihFrGg"
   },
   "source": [
    "### hw_6\n",
    "\n",
    "### Взаимосвязь величин. Показатели корреляции. Корреляционный анализ. Проверка на нормальность"
   ]
  },
  {
   "cell_type": "markdown",
   "metadata": {
    "id": "E3aUQNJlFrGl"
   },
   "source": [
    "### Многомерный статистический анализ"
   ]
  },
  {
   "cell_type": "markdown",
   "metadata": {
    "id": "bw7usENuFrGm"
   },
   "source": [
    "__Задача 1__\n",
    "\n",
    "Даны значения величины заработной платы заемщиков банка (zp) и значения их поведенческого кредитного скоринга (ks):<br>\n",
    "zp = [35, 45, 190, 200, 40, 70, 54, 150, 120, 110],<br>\n",
    "ks = [401, 574, 874, 919, 459, 739, 653, 902, 746, 832]. <br>\n",
    "Найдите __ковариацию__ этих двух величин с помощью элементарных действий, а затем с помощью функции cov из numpy\n",
    "Полученные значения должны быть равны.<br>\n",
    "Найдите __коэффициент корреляции Пирсона__ с помощью ковариации и среднеквадратичных отклонений двух признаков,\n",
    "а затем с использованием функций из библиотек numpy и pandas.\n",
    "\n",
    "<hr>"
   ]
  },
  {
   "cell_type": "code",
   "execution_count": 39,
   "metadata": {},
   "outputs": [],
   "source": [
    "import numpy as np"
   ]
  },
  {
   "cell_type": "code",
   "execution_count": 44,
   "metadata": {},
   "outputs": [],
   "source": [
    "zp = [35, 45, 190, 200, 40, 70, 54, 150, 120, 110]\n",
    "ks = [401, 574, 874, 919, 459, 739, 653, 902, 746, 832]"
   ]
  },
  {
   "cell_type": "markdown",
   "metadata": {
    "id": "34VAMbGLFrG2"
   },
   "source": [
    "### Показатели корреляции\n",
    "\n",
    "__Ковариация__ — мера линейной зависимости случайных величин. Её формула похожа на формулу дисперсии (_variance_). \n",
    "\n",
    "Формула ковариации случайных величин $X$ и $Y$:\n",
    "$$\\operatorname{cov}(X, Y) = M\\left( (X - M(X)) (Y - M(Y)) \\right).$$\n",
    "\n",
    "Несмещённую оценку ковариации можно посчитать следующим образом:\n",
    "$$\\sigma_{XY} = \\dfrac{1}{n - 1} \\displaystyle\\sum_{i = 1}^n \\left( x_i - \\overline{X} \\right) \\cdot \\left( y_i - \\overline{Y} \\right)$$\n",
    "\n",
    "Здесь $X$, $Y$ — выборки размера $n$."
   ]
  },
  {
   "cell_type": "code",
   "execution_count": 149,
   "metadata": {},
   "outputs": [
    {
     "name": "stdout",
     "output_type": "stream",
     "text": [
      "Ковариация заработной платы заемщиков и значения их поведенческого кредитного скоринга равна 9157.84\n"
     ]
    }
   ],
   "source": [
    "Y = np.array(zp)\n",
    "X = np.array(ks)\n",
    "cov = ((X- X.mean()) * (Y- Y.mean())).mean()\n",
    "cov\n",
    "\n",
    "print(f'Ковариация заработной платы заемщиков и значения их поведенческого кредитного скоринга равна {cov}')"
   ]
  },
  {
   "cell_type": "code",
   "execution_count": 151,
   "metadata": {
    "execution": {
     "iopub.execute_input": "2021-02-13T12:53:11.627347Z",
     "iopub.status.busy": "2021-02-13T12:53:11.626584Z",
     "iopub.status.idle": "2021-02-13T12:53:11.630107Z",
     "shell.execute_reply": "2021-02-13T12:53:11.630807Z"
    },
    "id": "huPAuBa4FrG4",
    "outputId": "a849abe6-d2c3-4e0a-dd2e-a3a80c15278f"
   },
   "outputs": [
    {
     "data": {
      "text/plain": [
       "9157.84"
      ]
     },
     "execution_count": 151,
     "metadata": {},
     "output_type": "execute_result"
    }
   ],
   "source": [
    "# То же через numpy\n",
    "np.cov(X, Y, ddof=0)[0,1]"
   ]
  },
  {
   "cell_type": "markdown",
   "metadata": {
    "id": "0O_luPZ6FrG5"
   },
   "source": [
    "__Коэффициент корреляции Пирсона__: $r_{XY} = \\dfrac{\\sigma_{XY}}{\\sigma_X \\cdot \\sigma_Y}$\n",
    "\n",
    "$$\\sigma^2 = \\dfrac{1}{m} \\displaystyle\\sum_{i = 1}^m \\left( x_i - \\overline{X} \\right)^2$$\n"
   ]
  },
  {
   "cell_type": "code",
   "execution_count": 158,
   "metadata": {},
   "outputs": [
    {
     "name": "stdout",
     "output_type": "stream",
     "text": [
      "Коэффициент корреляции Пирсона:  𝑟_𝑋𝑌:0.8875\n",
      "Проверка через numpy:  𝑟_𝑋𝑌(numpy) :0.8875\n"
     ]
    }
   ],
   "source": [
    "sko_X = ((X - MX)**2).sum() / len(X)\n",
    "sko_Y = ((Y - MY)**2).sum() / len(Y)\n",
    "r_XY = cov / ((sko_X)**0.5 * (sko_Y)**0.5)\n",
    "\n",
    "print(f'Коэффициент корреляции Пирсона:  𝑟_𝑋𝑌:{round(r_XY,4)}')\n",
    "print(f'Проверка через numpy:  𝑟_𝑋𝑌(numpy) :{round(np.corrcoef(X,Y)[0,1],4)}')\n"
   ]
  },
  {
   "cell_type": "markdown",
   "metadata": {},
   "source": [
    "__Задача 2__\n",
    "\n",
    "Измерены значения IQ выборки студентов,обучающихся в местных технических вузах:<br>\n",
    "131, 125, 115, 122, 131, 115, 107, 99, 125, 111.<br>\n",
    "Известно, что в генеральной совокупности IQ распределен нормально.<br>\n",
    "Найдите доверительный интервал для математического ожидания с надежностью 0.95.\n",
    "\n",
    "<hr>"
   ]
  },
  {
   "cell_type": "code",
   "execution_count": 182,
   "metadata": {},
   "outputs": [],
   "source": [
    "from scipy import stats"
   ]
  },
  {
   "cell_type": "code",
   "execution_count": 183,
   "metadata": {},
   "outputs": [],
   "source": [
    "iq = np.array([131, 125, 115, 122, 131, 115, 107, 99, 125, 111])"
   ]
  },
  {
   "cell_type": "code",
   "execution_count": 191,
   "metadata": {},
   "outputs": [
    {
     "name": "stdout",
     "output_type": "stream",
     "text": [
      "mean = 118.1\n",
      "scale = 10.004498987955369\n",
      "n = 10\n",
      "alpha = 0.05\n",
      "t = 2.2621571627409915\n"
     ]
    }
   ],
   "source": [
    "scale = iq.std()\n",
    "mean = iq.mean()\n",
    "n = len(iq)\n",
    "p = 0.95\n",
    "alpha = round((1 - p),3)\n",
    "t = stats.t.ppf(1 - alpha/2, df=n-1)\n",
    "print(f'mean = {mean}')\n",
    "print(f'scale = {scale}')\n",
    "print(f'n = {n}')\n",
    "print(f'alpha = {alpha}')\n",
    "print(f't = {t}')"
   ]
  },
  {
   "attachments": {
    "image.png": {
     "image/png": "[encoded data removed]"
    }
   },
   "cell_type": "markdown",
   "metadata": {},
   "source": [
    "Доверительный интервал:\n",
    "![image.png](attachment:image.png)"
   ]
  },
  {
   "cell_type": "code",
   "execution_count": 192,
   "metadata": {},
   "outputs": [
    {
     "data": {
      "text/plain": [
       "(110.9432125583706, 125.25678744162938)"
      ]
     },
     "execution_count": 192,
     "metadata": {},
     "output_type": "execute_result"
    }
   ],
   "source": [
    "# А доверительный интервал:\n",
    "(mean - t * scale / np.sqrt(n)), (mean + t * scale / np.sqrt(n))"
   ]
  },
  {
   "cell_type": "code",
   "execution_count": 193,
   "metadata": {},
   "outputs": [
    {
     "name": "stdout",
     "output_type": "stream",
     "text": [
      "Ширина интервала: = 14.31357488325878\n"
     ]
    }
   ],
   "source": [
    "print(f'Ширина интервала: = {(mean + t * scale / np.sqrt(n)) - (mean - t * scale / np.sqrt(n))}')"
   ]
  },
  {
   "cell_type": "markdown",
   "metadata": {},
   "source": [
    "__Задача 3__\n",
    "\n",
    "Известно, что рост футболистов в сборной распределен нормально\n",
    "с дисперсией генеральной совокупности, равной 25 кв.см. Объем выборки равен 27,\n",
    "среднее выборочное составляет 174.2. <br>\n",
    "Найдите доверительный интервал для математического\n",
    "ожидания с надежностью 0.95.\n",
    "\n",
    "\n",
    "<hr>"
   ]
  },
  {
   "cell_type": "code",
   "execution_count": 200,
   "metadata": {},
   "outputs": [
    {
     "name": "stdout",
     "output_type": "stream",
     "text": [
      "mean = 174.2\n",
      "scale = 5.0\n",
      "n = 27\n",
      "alpha = 0.05\n",
      "t = 1.959963984540054\n"
     ]
    }
   ],
   "source": [
    "D = 25\n",
    "n = 27\n",
    "mean = 174.2\n",
    "p = 0.95\n",
    "scale = np.sqrt(D)\n",
    "alpha = round((1 - p),3)\n",
    "print(f'mean = {mean}')\n",
    "print(f'scale = {scale}')\n",
    "print(f'n = {n}')\n",
    "print(f'alpha = {alpha}')\n",
    "# Так как известна дисперсия, то можем воспользоваться нормальным распределением:\n",
    "t = stats.norm.ppf(1 - alpha/2)\n",
    "print(f't = {t}')"
   ]
  },
  {
   "cell_type": "code",
   "execution_count": 201,
   "metadata": {},
   "outputs": [
    {
     "data": {
      "text/plain": [
       "(172.3140237765397, 176.08597622346028)"
      ]
     },
     "execution_count": 201,
     "metadata": {},
     "output_type": "execute_result"
    }
   ],
   "source": [
    "# А доверительный интервал будет равен:\n",
    "(mean - t * scale / np.sqrt(n)), (mean + t * scale / np.sqrt(n))\n"
   ]
  }
 ],
 "metadata": {
  "colab": {
   "name": "practice6.ipynb",
   "provenance": []
  },
  "kernelspec": {
   "display_name": "Python 3 (ipykernel)",
   "language": "python",
   "name": "python3"
  },
  "language_info": {
   "codemirror_mode": {
    "name": "ipython",
    "version": 3
   },
   "file_extension": ".py",
   "mimetype": "text/x-python",
   "name": "python",
   "nbconvert_exporter": "python",
   "pygments_lexer": "ipython3",
   "version": "3.9.4"
  }
 },
 "nbformat": 4,
 "nbformat_minor": 1
}
